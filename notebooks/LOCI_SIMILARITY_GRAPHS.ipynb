{
 "cells": [
  {
   "cell_type": "markdown",
   "id": "744ce0f8-ca5a-4ea6-a833-3a1ac2150344",
   "metadata": {},
   "source": [
    "# #0. Import packages for visualization (not used in a pipeline)"
   ]
  },
  {
   "cell_type": "code",
   "execution_count": 1,
   "id": "c33f2685-575d-42e1-bd82-881233db5ab4",
   "metadata": {},
   "outputs": [],
   "source": [
    "import matplotlib.pyplot as plt\n",
    "import seaborn as sns"
   ]
  },
  {
   "cell_type": "markdown",
   "id": "54f194db-1dea-40c8-b364-c26634bb5f98",
   "metadata": {},
   "source": [
    "# #1. Code for similarity estimation"
   ]
  },
  {
   "cell_type": "markdown",
   "id": "1643d644-1ee9-4bad-8604-50310e43ecf0",
   "metadata": {},
   "source": [
    "## #1.0. Import packages"
   ]
  },
  {
   "cell_type": "code",
   "execution_count": 2,
   "id": "7f3da71f-f1cf-4937-ac89-030be1c91d19",
   "metadata": {},
   "outputs": [],
   "source": [
    "import os\n",
    "import argparse\n",
    "import numpy as np\n",
    "import pandas as pd\n",
    "\n",
    "from math import log10 as lg\n",
    "from scipy.stats import hypergeom\n",
    "from tqdm import tqdm"
   ]
  },
  {
   "cell_type": "markdown",
   "id": "038356dd-6d1d-48e9-9966-c010d289c991",
   "metadata": {},
   "source": [
    "## #1.1. Read GFF\n",
    "\n",
    "Contains information about loci (about clans and clusters, we focus on clans)"
   ]
  },
  {
   "cell_type": "code",
   "execution_count": 3,
   "id": "c416cc76-0579-4cef-827e-56143252a2f2",
   "metadata": {},
   "outputs": [],
   "source": [
    "# read gff\n",
    "def _split_attributes(attrs: str):\n",
    "    pairs = attrs.split(';')\n",
    "    kvs = [pair.split('=', maxsplit=1) for pair in pairs]\n",
    "    for i, kv in enumerate(kvs):\n",
    "        if len(kv) == 1:\n",
    "            kvs[i - 1][-1] += f'{kv[0]}'\n",
    "            kvs.remove(kv)\n",
    "    return {f'ATTRIBUTE_{k}': v for k, v in kvs}\n",
    "\n",
    "\n",
    "def unites_attributes_col(row: pd.DataFrame, attribute_cols: pd.Index) -> str:\n",
    "    attributes = []\n",
    "    for attribute_name in attribute_cols:\n",
    "        if row[attribute_name] is not nan:\n",
    "            suffix = '_'.join(attribute_name.split('_')[1:])\n",
    "            attributes.append(f'{suffix}={row[attribute_name]}')\n",
    "\n",
    "    return ';'.join(attributes)\n",
    "\n",
    "\n",
    "def read_gff(gff_path):\n",
    "    \"\"\"\n",
    "    reads gff file into pd dataframe\n",
    "    :param gff_path: (str) path to gff file\n",
    "    :return: pd.DataFrame from gff file\n",
    "    \"\"\"\n",
    "    colnames = ['seq_id', 'source', 'type', 'start', 'end', 'score', 'strand', 'phase', 'attributes']\n",
    "    entries = []\n",
    "    with open(gff_path, 'rt') as gff:\n",
    "        for line in gff:\n",
    "            entry = line.strip().split('\\t')\n",
    "            entries.append(entry)\n",
    "\n",
    "    gff_data = pd.DataFrame(entries, columns=colnames)\n",
    "    gff_data['attribute_dict'] = gff_data['attributes'].apply(_split_attributes)\n",
    "\n",
    "    norm_attribute = pd.json_normalize(gff_data.attribute_dict)\n",
    "    gff_data = pd.concat([gff_data, norm_attribute], axis=1)\n",
    "    # remove temp columns:\n",
    "    gff_data = gff_data.drop(columns=['attribute_dict', 'attributes'])\n",
    "    return gff_data"
   ]
  },
  {
   "cell_type": "markdown",
   "id": "9da41990-a6c9-4cae-94d8-302080c68a0d",
   "metadata": {},
   "source": [
    "## #1.2. Calculate initial information about dataset\n",
    "\n",
    "1) total clans number,\n",
    "2) total number of comparisons"
   ]
  },
  {
   "cell_type": "code",
   "execution_count": 4,
   "id": "6c91b4ff-fd0b-4ac0-9d89-07753dea61f5",
   "metadata": {},
   "outputs": [],
   "source": [
    "def calculate_total_clan_number(initial_gff_df):\n",
    "    return len(initial_gff_df['ATTRIBUTE_clan'].unique())\n",
    "\n",
    "\n",
    "def get_num_of_comparisons(initial_gff_df):\n",
    "    n = len(initial_gff_df['seq_id'].unique())\n",
    "    t = n * (n - 1)\n",
    "    return t"
   ]
  },
  {
   "cell_type": "markdown",
   "id": "6238e056-5820-4eb4-96f3-ec84b72d9073",
   "metadata": {},
   "source": [
    "## #1.3. Calculate similarity for each pair of loci"
   ]
  },
  {
   "cell_type": "code",
   "execution_count": 5,
   "id": "735e1476-eb30-423f-8dd1-6a260a619792",
   "metadata": {},
   "outputs": [],
   "source": [
    "# calculate similarity\n",
    "def get_intersect_len(set1, set2):\n",
    "    return len(set1 & set2)\n",
    "\n",
    "\n",
    "def get_prob(c, n, k, n_tot):\n",
    "    \"\"\"\n",
    "    Let L_i and L_j be two comparing loci and,\n",
    "    n := min( |L_i|, |L_j| ) - minimal cardinality of two sets (# clans in smaller set)\n",
    "    k := max( |L_i|, |L_j| ) - maximal cardinality of two sets (# clans in bigger set)\n",
    "    c := |L_i intersect L_j |- cardinality of intersection of two sets (# of common clans)\n",
    "    n_tot := total # of clans\n",
    "    then we can calculate the probability of obtaining obtaining the result at least\n",
    "    as an extreme as the one that was actually observed, given that H0 is true\n",
    "    (H0: two loci has common clans just by chance).\n",
    "    The distribution is hypergeometric (X - number of successes c in n independent trials,\n",
    "    given that there is k successes in population of size n_tot).\n",
    "    In other words, X - number of clans in smaller set (c), which are also belong to the bigger set,\n",
    "    given the size of the smaller set (n), size of the bigger set (k), and total number of clans (n_tot)\n",
    "    \"\"\"\n",
    "    return hypergeom.sf(k=c, N=n, n=k, M=n_tot)\n",
    "\n",
    "\n",
    "def get_score(prob, mtcc):\n",
    "    \"\"\"\n",
    "    prob := probability of event given H0 (see `get_prob` function),\n",
    "    mtcc := multiple testing correction coefficient (for Bonferroni correction,\n",
    "    controls FWER, see `get_num_of_comparisons` function)\n",
    "    \"\"\"\n",
    "    if prob != 0:\n",
    "        score = - lg(prob * mtcc)\n",
    "    else:\n",
    "        score = float('+inf')\n",
    "    return score\n",
    "\n",
    "\n",
    "def _calculate_score(set1, set2, n_total, t):\n",
    "    # calculate minimal and maximal cavitivity\n",
    "    n = min((len(set1), len(set2)))\n",
    "    k = max((len(set1), len(set2)))\n",
    "    # calculate cavitivity of inte\n",
    "    c = get_intersect_len(set1, set2)\n",
    "    pval = get_prob(c=c, n=n, k=k, n_tot=n_total)\n",
    "    score = get_score(prob=pval, mtcc=t)\n",
    "    return score"
   ]
  },
  {
   "cell_type": "markdown",
   "id": "9e654e0f-4c41-4e5a-8c6b-1891905d0806",
   "metadata": {},
   "source": [
    "## #1.4. Calculate similarity scores for the whole dataset (based on previous functions in #1.1.-#1.3.)"
   ]
  },
  {
   "cell_type": "code",
   "execution_count": 6,
   "id": "c99cf55a-b6ec-42db-8580-f57584dca6df",
   "metadata": {},
   "outputs": [],
   "source": [
    "def get_similarity_scores(loci_df):\n",
    "    n_total = calculate_total_clan_number(loci_df)\n",
    "    t = get_num_of_comparisons(loci_df)\n",
    "    # get df of clan sets belonging to each locus\n",
    "    df = pd.DataFrame(loci_df.groupby('seq_id').apply(lambda x: frozenset(x['ATTRIBUTE_clan'])),\n",
    "                      columns=['clans'])\n",
    "    # calculate similarity score\n",
    "    cross_df = pd.DataFrame(df.clans.apply(lambda x: df.clans.apply(lambda y: _calculate_score(x, y, n_total, t))))\n",
    "    return cross_df"
   ]
  },
  {
   "cell_type": "markdown",
   "id": "c9c89922-0bcb-4593-89f9-e668a95fe270",
   "metadata": {},
   "source": [
    "# #2. Define input parameters\n",
    "\n",
    "Input files (gff, path to directory with permutations, number of permutations, path to output file)"
   ]
  },
  {
   "cell_type": "code",
   "execution_count": 7,
   "id": "a351215f-fb74-4d28-aad1-0cbed0be31d1",
   "metadata": {},
   "outputs": [],
   "source": [
    "data_path = '../data_autographiviridae_meta/loci_similarity/early_with_clusters_no_onegene_contigs.gff'\n",
    "in_dir = '../data_autographiviridae_meta/loci_similarity/permutations'\n",
    "n_permutations = 500\n",
    "out_file = '../data_autographiviridae_meta/loci_similarity/edge_list_loci.tsv'"
   ]
  },
  {
   "cell_type": "markdown",
   "id": "686017e5-abb6-45cd-88d8-680183c234fb",
   "metadata": {},
   "source": [
    "# #3. Analyse permuted scores "
   ]
  },
  {
   "cell_type": "markdown",
   "id": "ca45b90c-75b3-4bd0-8aea-4e49aadb1816",
   "metadata": {},
   "source": [
    "Extract max values from each permutation (excludint infinity in case of comparison of locus with itself (which is code feature))"
   ]
  },
  {
   "cell_type": "code",
   "execution_count": 8,
   "id": "b7f1880e-ac78-4e74-acbd-b19efd875a32",
   "metadata": {},
   "outputs": [],
   "source": [
    "df = pd.DataFrame(columns=['seq_id', 'value', 'permutation'])"
   ]
  },
  {
   "cell_type": "code",
   "execution_count": 9,
   "id": "b9bf9e4d-a270-4cbd-87f6-e68ca43058dd",
   "metadata": {},
   "outputs": [
    {
     "name": "stderr",
     "output_type": "stream",
     "text": [
      "100%|█████████████████████████████████████████| 500/500 [00:58<00:00,  8.56it/s]\n"
     ]
    }
   ],
   "source": [
    "nf_qua_values = []\n",
    "for i in tqdm(range(n_permutations)):\n",
    "    scores_df_melted_perm = pd.read_pickle(os.path.join(in_dir, f'{i}.pickle'))\n",
    "    scores_df_melted_perm = scores_df_melted_perm[scores_df_melted_perm.index != scores_df_melted_perm.seq_id]\n",
    "    nf_qua_values.append(np.quantile(scores_df_melted_perm.value, .99))\n",
    "    if i < 10:\n",
    "        scores_df_melted_perm['permutation'] = f'permutation_{i}'\n",
    "        df = pd.concat([df, scores_df_melted_perm])\n",
    "\n",
    "nf_qua_values = np.array(nf_qua_values)"
   ]
  },
  {
   "cell_type": "code",
   "execution_count": 10,
   "id": "ca3013d4-ecb2-457d-948e-a0bc91c791b8",
   "metadata": {},
   "outputs": [
    {
     "data": {
      "text/plain": [
       "7.909843810640349"
      ]
     },
     "execution_count": 10,
     "metadata": {},
     "output_type": "execute_result"
    }
   ],
   "source": [
    "scores_df_melted_perm[scores_df_melted_perm.value != float('+inf')].value.max()"
   ]
  },
  {
   "cell_type": "markdown",
   "id": "644be5a1-4156-4a17-8ee7-6060d233fff9",
   "metadata": {},
   "source": [
    "Visualize some of permutations"
   ]
  },
  {
   "cell_type": "code",
   "execution_count": 11,
   "id": "8ab928d3-1a8a-485f-906a-4b3ace752131",
   "metadata": {},
   "outputs": [
    {
     "data": {
      "text/plain": [
       "<Figure size 2000x2400 with 0 Axes>"
      ]
     },
     "metadata": {},
     "output_type": "display_data"
    },
    {
     "data": {
      "image/png": "[encoded data removed]",
      "text/plain": [
       "<Figure size 640x480 with 10 Axes>"
      ]
     },
     "metadata": {},
     "output_type": "display_data"
    }
   ],
   "source": [
    "plt.figure(figsize=(20,24))\n",
    "figure, axis = plt.subplots(5, 2) \n",
    "\n",
    "for i in range(10):\n",
    "    loc_y = i // 5\n",
    "    loc_x = i % 5\n",
    "    name = f'permutation_{i}'\n",
    "    sub_df = df.query('permutation == @name')\n",
    "    replacement_score = sub_df[sub_df.value != float('+inf')].value.max() \n",
    "    sub_df = sub_df.replace(float('+inf'), replacement_score + 1)\n",
    "    axis[loc_x, loc_y].hist(sub_df.value, density=True, bins=25, fill=True, ec=\"black\", color='white', label='$S_{Permuted}$')\n",
    "    axis[loc_x, loc_y].axvline(np.quantile(sub_df.value, 0.99), ls='--', color='tomato', label='$q_{0.99} (S_{permuted})$')\n",
    "    axis[loc_x, loc_y].legend()\n",
    "    axis[loc_x, loc_y].set_title(f\"Permutation {i + 1}\") \n",
    "plt.subplots_adjust(left=0.1,\n",
    "                    bottom=0.1, \n",
    "                    right=1.5, \n",
    "                    top=3, \n",
    "                    wspace=0.2, \n",
    "                    hspace=0.4)\n",
    "# plt.show() \n",
    "plt.savefig('../data_autographiviridae_meta/pics/replicates_hist_only_permuted.png', dpi=300, bbox_inches='tight')"
   ]
  },
  {
   "cell_type": "code",
   "execution_count": 12,
   "id": "38e4806b-e1c8-4a05-bbef-2c082964f692",
   "metadata": {},
   "outputs": [
    {
     "data": {
      "image/png": "[encoded data removed]",
      "text/plain": [
       "<Figure size 640x480 with 1 Axes>"
      ]
     },
     "metadata": {},
     "output_type": "display_data"
    }
   ],
   "source": [
    "replacement_score = scores_df_melted_perm[scores_df_melted_perm.value != float('+inf')].value.max() \n",
    "scores_df_melted_perm_replaced = scores_df_melted_perm.replace(float('+inf'), replacement_score + 1)\n",
    "\n",
    "plt.hist(nf_qua_values, density=True, bins=40, fill=True, ec=\"black\", color='white')  # density=False would make counts\n",
    "plt.axvline(np.quantile(nf_qua_values, 0.99), color='tomato')\n",
    "plt.ylabel('Probability')\n",
    "plt.xlabel('$q_{0.99}(\\pi (S_i))$');"
   ]
  },
  {
   "cell_type": "markdown",
   "id": "e061d4ff-2245-4694-94df-731e1c3a34fc",
   "metadata": {},
   "source": [
    "# #4. Select threshold"
   ]
  },
  {
   "cell_type": "markdown",
   "id": "4e4a5109-e9f5-4d72-adbc-f09d1536ee87",
   "metadata": {},
   "source": [
    "Threshold: such value that only 0.01 of permuted $q_{0.91}$ more than that threshold:"
   ]
  },
  {
   "cell_type": "code",
   "execution_count": 13,
   "id": "7c1e5f9e-fa3a-4fc1-be46-5e4e8c3f08eb",
   "metadata": {},
   "outputs": [
    {
     "data": {
      "text/plain": [
       "0.33041385398752404"
      ]
     },
     "execution_count": 13,
     "metadata": {},
     "output_type": "execute_result"
    }
   ],
   "source": [
    "np.quantile(nf_qua_values, 0.99)"
   ]
  },
  {
   "cell_type": "markdown",
   "id": "e4024fd9-eec0-483f-a050-277fa125bd98",
   "metadata": {},
   "source": [
    "# #5. Calculate observed scores and select significant based on permuted threshold"
   ]
  },
  {
   "cell_type": "markdown",
   "id": "db5a2e68-535e-43ca-a562-a8bf77d1e60a",
   "metadata": {},
   "source": [
    "## #5.1. Read GFF and calculate similarities"
   ]
  },
  {
   "cell_type": "code",
   "execution_count": 14,
   "id": "79252fb1-8503-4a3a-87cc-98ff857b5be7",
   "metadata": {},
   "outputs": [],
   "source": [
    "# calculate scores\n",
    "gff_df = read_gff(data_path)\n",
    "loci_df = gff_df[['seq_id', 'ATTRIBUTE_clan']]\n",
    "scores_df = get_similarity_scores(loci_df)\n",
    "scores_df_melted = scores_df.melt(ignore_index=False)\n",
    "scores_df_melted = scores_df_melted[scores_df_melted.seq_id != scores_df_melted.index]"
   ]
  },
  {
   "cell_type": "markdown",
   "id": "18a5f6be-5e0b-40ee-954b-ff0b273853c4",
   "metadata": {},
   "source": [
    "## #5.2. Visualize distribution"
   ]
  },
  {
   "cell_type": "code",
   "execution_count": 15,
   "id": "e3b63bf7-e607-4088-8635-f1192e9522f7",
   "metadata": {},
   "outputs": [
    {
     "data": {
      "image/png": "[encoded data removed]",
      "text/plain": [
       "<Figure size 640x480 with 1 Axes>"
      ]
     },
     "metadata": {},
     "output_type": "display_data"
    }
   ],
   "source": [
    "replacement_score = scores_df_melted[scores_df_melted.value != float('+inf')].value.max() \n",
    "scores_df_melted_replaced = scores_df_melted.replace(float('+inf'), replacement_score + 1)\n",
    "\n",
    "plt.hist(scores_df_melted_replaced.value, density=True, bins=30, fill=True, ec=\"black\", color='white')  # density=False would make counts\n",
    "plt.axvline(np.quantile(nf_qua_values, 0.99), color='tomato')\n",
    "plt.ylabel('Probability')\n",
    "plt.xlabel('$S$');"
   ]
  },
  {
   "cell_type": "markdown",
   "id": "2376e82c-89dc-47ab-949a-107984d0934d",
   "metadata": {},
   "source": [
    "## #5.3. Write results"
   ]
  },
  {
   "cell_type": "code",
   "execution_count": 14,
   "id": "b5da67a7-e738-467b-bbcc-a9902efbcf7c",
   "metadata": {},
   "outputs": [],
   "source": [
    "# write results\n",
    "# scores_df_melted[scores_df_melted.value >= np.quantile(nf_qua_values, 0.95)].loc[:, 'seq_id'].to_csv(out_file,\n",
    "#                                                                                          sep='\\t', header=False)\n"
   ]
  },
  {
   "cell_type": "markdown",
   "id": "846904b4-5c93-401b-8155-c9d9a32d0c63",
   "metadata": {},
   "source": [
    "# #6. Analyse found communities"
   ]
  },
  {
   "cell_type": "markdown",
   "id": "42915876-3ebe-4f63-98ef-ae76a5ebed15",
   "metadata": {},
   "source": [
    "Based on calculated similarities, clustering of loci was performed with CL1.\n",
    "It's time to analyse found loci communities.\n",
    "\n",
    "Approach: find communities, loci of which contain the known ADGs. If some of the loci in such community does not have the known ADG, find which different proteins are encoded in this locus. "
   ]
  },
  {
   "cell_type": "markdown",
   "id": "690c7f4b-0e38-4b36-ac96-de35d6ac1489",
   "metadata": {},
   "source": [
    "## #6.0. Import packages"
   ]
  },
  {
   "cell_type": "code",
   "execution_count": 16,
   "id": "81f5193e-7d8f-4c5c-998f-184ce9f9df14",
   "metadata": {},
   "outputs": [],
   "source": [
    "from collections import defaultdict\n",
    "\n",
    "import pandas as pd\n",
    "import networkx as nx"
   ]
  },
  {
   "cell_type": "markdown",
   "id": "0f25e199-defe-4b2f-8156-75e7717d4759",
   "metadata": {},
   "source": [
    "## #6.1. Read information about communities found"
   ]
  },
  {
   "cell_type": "code",
   "execution_count": 17,
   "id": "e626703a-ab81-4e61-b9c9-ac0973919088",
   "metadata": {},
   "outputs": [],
   "source": [
    "def read_clu1_res(in_path) -> tuple:\n",
    "    clu2clans = defaultdict(list)\n",
    "    with open(in_path, 'rt') as in_file:\n",
    "        for i, line in enumerate(in_file):\n",
    "            clan = line.strip().split('\\t')\n",
    "            name = f'{i+1}_community'\n",
    "            for cluster in clan:\n",
    "                clu2clans[cluster].append(name)\n",
    "    return clu2clans, i+1\n",
    "\n",
    "\n",
    "def read_edgelist(in_path: str) -> nx.classes.graph.Graph:\n",
    "    \"\"\"\n",
    "    reads the edgefile into the nx object (Graph)\n",
    "    \"\"\"\n",
    "    g = nx.read_edgelist(in_path, delimiter='\\t', create_using=nx.Graph, data=((\"weight\", float),))\n",
    "    return g\n",
    "\n",
    "\n",
    "def find_all_pairs(g, already_known_structures: dict, max_num_prev: int) -> tuple:\n",
    "    \"\"\"\n",
    "    find all pairs of nodes in graph (aka components of size 2)\n",
    "    \"\"\"\n",
    "    structures = already_known_structures.copy()\n",
    "    counter = max_num_prev\n",
    "\n",
    "    for component in nx.connected_components(g):\n",
    "        if len(component) == 2:\n",
    "            counter += 1\n",
    "            for node in component:\n",
    "                name = f'{counter}_pair'\n",
    "                structures[node].append(name)\n",
    "    return structures, counter"
   ]
  },
  {
   "cell_type": "markdown",
   "id": "d27b6eaf-df7a-4d6c-9086-dc948988b77a",
   "metadata": {},
   "source": [
    "## #6.2. Define input parameters"
   ]
  },
  {
   "cell_type": "code",
   "execution_count": 18,
   "id": "ceafbd55-7371-49a7-8069-8004b0773e79",
   "metadata": {},
   "outputs": [],
   "source": [
    "in_gff = '../data_autographiviridae_meta/loci_similarity/early_with_clusters_no_onegene_contigs.gff'\n",
    "in_clans = '../data_autographiviridae_meta/loci_similarity/loci_communities.tsv'\n",
    "in_edges = '../data_autographiviridae_meta/loci_similarity/edge_list_loci.tsv'\n",
    "out_path = '../data_autographiviridae_meta/loci_similarity/putative_adgs.tsv'"
   ]
  },
  {
   "cell_type": "markdown",
   "id": "fbb4ca04-c062-4287-b799-f9824fe0122d",
   "metadata": {},
   "source": [
    "## #6.3. Read input data"
   ]
  },
  {
   "cell_type": "markdown",
   "id": "c2ab0ba9-2730-4b7e-a5d4-dd76daed7a7b",
   "metadata": {},
   "source": [
    "### Read GFF"
   ]
  },
  {
   "cell_type": "code",
   "execution_count": 20,
   "id": "12c0fe0c-9176-4365-b8ea-c2ad09e489aa",
   "metadata": {},
   "outputs": [
    {
     "data": {
      "text/html": [
       "<div>\n",
       "<style scoped>\n",
       "    .dataframe tbody tr th:only-of-type {\n",
       "        vertical-align: middle;\n",
       "    }\n",
       "\n",
       "    .dataframe tbody tr th {\n",
       "        vertical-align: top;\n",
       "    }\n",
       "\n",
       "    .dataframe thead th {\n",
       "        text-align: right;\n",
       "    }\n",
       "</style>\n",
       "<table border=\"1\" class=\"dataframe\">\n",
       "  <thead>\n",
       "    <tr style=\"text-align: right;\">\n",
       "      <th></th>\n",
       "      <th>clans</th>\n",
       "    </tr>\n",
       "    <tr>\n",
       "      <th>seq_id</th>\n",
       "      <th></th>\n",
       "    </tr>\n",
       "  </thead>\n",
       "  <tbody>\n",
       "    <tr>\n",
       "      <th>Broecker_Sample_ID29-1191-3_NODE_102_length_38363_cov_11.011251</th>\n",
       "      <td>(1_clan, outlier: 34_clan, 421_mono, 5_clan, 1...</td>\n",
       "    </tr>\n",
       "    <tr>\n",
       "      <th>ERS698680|NODE_23_length_11647_cov_8.695997</th>\n",
       "      <td>(137_pair, 1_clan)</td>\n",
       "    </tr>\n",
       "    <tr>\n",
       "      <th>ERS698777|NODE_7_length_43252_cov_47.221080</th>\n",
       "      <td>(83_clan, outlier, outlier: 14_clan, 1_clan, 4...</td>\n",
       "    </tr>\n",
       "    <tr>\n",
       "      <th>ERS698786|NODE_3_length_76173_cov_1678.751649</th>\n",
       "      <td>(883_mono, 402_mono, outlier: 7_clan, 576_mono...</td>\n",
       "    </tr>\n",
       "    <tr>\n",
       "      <th>ERS743392|NODE_299_length_16723_cov_6.762599</th>\n",
       "      <td>(1_clan, 502_mono, 1206_mono, 916_mono, 974_mono)</td>\n",
       "    </tr>\n",
       "  </tbody>\n",
       "</table>\n",
       "</div>"
      ],
      "text/plain": [
       "                                                                                                clans\n",
       "seq_id                                                                                               \n",
       "Broecker_Sample_ID29-1191-3_NODE_102_length_383...  (1_clan, outlier: 34_clan, 421_mono, 5_clan, 1...\n",
       "ERS698680|NODE_23_length_11647_cov_8.695997                                        (137_pair, 1_clan)\n",
       "ERS698777|NODE_7_length_43252_cov_47.221080         (83_clan, outlier, outlier: 14_clan, 1_clan, 4...\n",
       "ERS698786|NODE_3_length_76173_cov_1678.751649       (883_mono, 402_mono, outlier: 7_clan, 576_mono...\n",
       "ERS743392|NODE_299_length_16723_cov_6.762599        (1_clan, 502_mono, 1206_mono, 916_mono, 974_mono)"
      ]
     },
     "execution_count": 20,
     "metadata": {},
     "output_type": "execute_result"
    }
   ],
   "source": [
    "gff_df = read_gff(in_gff)\n",
    "loci_df = gff_df[['seq_id', 'ATTRIBUTE_clan']]\n",
    "loci_df = loci_df.groupby('seq_id').apply(lambda x: frozenset(x['ATTRIBUTE_clan']))\n",
    "loci_df = pd.DataFrame(loci_df, columns=['clans'])\n",
    "\n",
    "loci_df.head()"
   ]
  },
  {
   "cell_type": "markdown",
   "id": "4ab6e6ec-130b-47dc-8db7-4176b4ad80c6",
   "metadata": {},
   "source": [
    "### Read results of ClusterONE"
   ]
  },
  {
   "cell_type": "code",
   "execution_count": 21,
   "id": "bc08e48d-3b95-476d-b8d5-0c3d39fd6ac2",
   "metadata": {},
   "outputs": [],
   "source": [
    "graph = read_edgelist(in_edges)\n",
    "\n",
    "structures, max_struct = read_clu1_res(in_clans)\n",
    "structures, max_struct = find_all_pairs(graph, structures, max_num_prev=max_struct)"
   ]
  },
  {
   "cell_type": "markdown",
   "id": "9a837c44-945c-4fc0-ad8f-39773b72e0cf",
   "metadata": {},
   "source": [
    "### Save updates info for CytoScape"
   ]
  },
  {
   "cell_type": "code",
   "execution_count": 22,
   "id": "facfc35e-de79-4992-9b3c-03e7e757f494",
   "metadata": {},
   "outputs": [],
   "source": [
    "def get_jaccard_distance(set_1: set, set_2: set) -> float:\n",
    "    dist = len(set_1 & set_2) / len(set_1 | set_2)\n",
    "    return dist"
   ]
  },
  {
   "cell_type": "code",
   "execution_count": 23,
   "id": "0b06d210-3120-4cc3-9b05-92587c01de1f",
   "metadata": {},
   "outputs": [],
   "source": [
    "# append singletons\n",
    "nodes_in_graph = set(graph.nodes)\n",
    "edges_df = pd.DataFrame(graph.edges)\n",
    "edges_df['Jaccard_dist'] = edges_df.apply(lambda x: get_jaccard_distance(loci_df.loc[x[0]].clans, loci_df.loc[x[1]].clans), axis=1)"
   ]
  },
  {
   "cell_type": "code",
   "execution_count": 24,
   "id": "8ab7a8b4-8e2d-415d-93f9-30763280b532",
   "metadata": {},
   "outputs": [],
   "source": [
    "edges_df = pd.concat([edges_df, pd.DataFrame({0: list(set(loci_df.index) - nodes_in_graph)})], ignore_index=True)"
   ]
  },
  {
   "cell_type": "code",
   "execution_count": 25,
   "id": "c7530f6e-7e1d-4164-a2e3-dac6bd8c95a3",
   "metadata": {},
   "outputs": [
    {
     "data": {
      "text/plain": [
       "21"
      ]
     },
     "execution_count": 25,
     "metadata": {},
     "output_type": "execute_result"
    }
   ],
   "source": [
    "# find number of singletons\n",
    "len(set(loci_df.index) - nodes_in_graph)"
   ]
  },
  {
   "cell_type": "code",
   "execution_count": 26,
   "id": "a4149c38-0663-4117-99d3-647c400ad5f8",
   "metadata": {},
   "outputs": [],
   "source": [
    "# save edgelist with singletons added\n",
    "# edges_df.to_csv('../data_autographiviridae_meta/loci_similarity/edge_list_loci_updated.tsv', index=False, header=False, sep='\\t')"
   ]
  },
  {
   "cell_type": "code",
   "execution_count": 27,
   "id": "a68e8e77-efce-45f2-90a6-5e7db9af5a75",
   "metadata": {},
   "outputs": [],
   "source": [
    "# calculate loci sizes, which will be represented by size of point in network\n",
    "loci_df['loc_size'] = loci_df['clans'].apply(lambda x: len(x))\n",
    "# loci_df.to_csv('../data_autographiviridae_meta/loci_similarity/loci_sizes.tsv', sep='\\t')"
   ]
  },
  {
   "cell_type": "code",
   "execution_count": 28,
   "id": "18f3cdde-747a-487b-afc5-3729f136c344",
   "metadata": {},
   "outputs": [],
   "source": [
    "def fix_overlaps(clu2clans: dict) -> dict:\n",
    "    clans = {}\n",
    "    for cluster in clu2clans.keys():\n",
    "        if len(clu2clans[cluster]) > 1:\n",
    "            clans[cluster] = '; '.join([clan_name for clan_name in clu2clans[cluster]])\n",
    "        else:\n",
    "            clans[cluster] = clu2clans[cluster][0]\n",
    "    return clans\n",
    "\n",
    "\n",
    "def mark_outliers(g, already_known_structures: dict) -> dict:\n",
    "    \"\"\"\n",
    "    marks outliers and bridges in graph which are not in communities,\n",
    "    based ou their neighborhood\n",
    "    \"\"\"\n",
    "    structures = already_known_structures.copy()\n",
    "    for node in g.nodes():\n",
    "        if node not in structures.keys():\n",
    "            outlier_neighbors = []\n",
    "            for neighbor in g.neighbors(node):\n",
    "                if neighbor in structures.keys():\n",
    "                    outlier_neighbors.append(structures[neighbor][0])\n",
    "                else:\n",
    "                    outlier_neighbors.append('outlier')\n",
    "\n",
    "            if 'outlier' in outlier_neighbors:\n",
    "                for nei in outlier_neighbors:\n",
    "                    if nei.endswith('community'):\n",
    "                        structures[node].append(f'outlier: {nei}')\n",
    "                        break\n",
    "                    else:\n",
    "                        structures[node].append('outlier')\n",
    "            elif all([nei.endswith('community') for nei in outlier_neighbors]):\n",
    "                if len(outlier_neighbors) == 1:\n",
    "                    structures[node].append(f'outlier: {outlier_neighbors[0]}')\n",
    "                else:\n",
    "                    structures[node].append(f'bridge: {\", \".join(set(outlier_neighbors))}')\n",
    "    return structures\n",
    "\n",
    "\n",
    "def mark_lonely_clusters(clusters_mono: set, already_known_structures: dict, max_num_prev: int) -> dict:\n",
    "    \"\"\"\n",
    "    mark clusters that does not form any structures (do not form a clans or even pairs), stand alone in the graph\n",
    "    \"\"\"\n",
    "    counter = max_num_prev\n",
    "    structures = already_known_structures.copy()\n",
    "    for cluster in clusters_mono:\n",
    "        if cluster not in structures.keys():\n",
    "            counter += 1\n",
    "            structures[cluster].append(f'{counter}_mono')\n",
    "    return structures\n",
    "\n",
    "\n",
    "def write_clusters(out_path: str, clu2clans: dict, fmt: str) -> None:\n",
    "    if fmt == 'wide':\n",
    "        with open(out_path, 'wt') as out_file:\n",
    "            for pair in clu2clans.items():\n",
    "                out_file.write('\\t'.join(pair))\n",
    "                out_file.write('\\n')\n",
    "    else:\n",
    "        with open(out_path, 'wt') as out_file:\n",
    "            for clu, info in clu2clans.items():\n",
    "                for item in info:\n",
    "                    out_file.write('\\t'.join([clu, item]))\n",
    "                    out_file.write('\\n')\n",
    "\n"
   ]
  },
  {
   "cell_type": "code",
   "execution_count": 29,
   "id": "666c58ab-ce1a-469c-a61e-dcee01258b62",
   "metadata": {},
   "outputs": [],
   "source": [
    "# get info about outliers in graph\n",
    "structures = mark_outliers(graph, structures)\n",
    "structures = mark_lonely_clusters(set(loci_df.index) - nodes_in_graph, structures, max_struct)\n",
    "# save communities into a separatew table, will be represented as colors\n",
    "structures_wide = fix_overlaps(structures)\n",
    "\n",
    "# write_clusters('../data_autographiviridae_meta/loci_similarity/parsed_communities_info.tsv', structures_wide, fmt='wide')\n"
   ]
  },
  {
   "cell_type": "code",
   "execution_count": 30,
   "id": "901939b5-a32b-4ad2-b24e-2426c3bae696",
   "metadata": {},
   "outputs": [],
   "source": [
    "structures_direct = defaultdict(set)\n",
    "for seq_id, values in structures.items():\n",
    "    for structure in values:\n",
    "        structures_direct[structure].add(seq_id)"
   ]
  },
  {
   "cell_type": "code",
   "execution_count": 31,
   "id": "d4cca549-0971-42ef-a140-eb4c8706e9cb",
   "metadata": {},
   "outputs": [],
   "source": [
    "# save information about presence of ADGs in loci, will be shown by node shape in the network\n",
    "# gff_df[['seq_id', 'ATTRIBUTE_clan']][gff_df.ATTRIBUTE_clan.isin(known_adgs)].to_csv('../data_autographiviridae_meta/loci_similarity/has_adgs.tsv',\n",
    "#                                                                                    index=False, sep='\\t')\n",
    "\n",
    "has_adgs_df = gff_df[['seq_id', 'ATTRIBUTE_clan']][gff_df.ATTRIBUTE_clan.isin(known_adgs)]"
   ]
  },
  {
   "cell_type": "code",
   "execution_count": 32,
   "id": "70cffdbd-183c-4888-9749-33eb56fd9b1d",
   "metadata": {},
   "outputs": [],
   "source": [
    "# create list of tuples\n",
    "structures_long = []\n",
    "for comm, seq_ids in structures_direct.items():\n",
    "    for seq_id in seq_ids:\n",
    "        structures_long.append((comm, seq_id))"
   ]
  },
  {
   "cell_type": "code",
   "execution_count": 33,
   "id": "7c36905d-fa32-4f92-9400-dbcf67613b5c",
   "metadata": {},
   "outputs": [],
   "source": [
    "# create df from list\n",
    "structures_df = pd.DataFrame(structures_long, columns=['structure', 'seq_id'])"
   ]
  },
  {
   "cell_type": "code",
   "execution_count": 34,
   "id": "7bfdc070-6ebd-4b1d-9ae0-f263a0d0172d",
   "metadata": {},
   "outputs": [
    {
     "data": {
      "text/plain": [
       "57"
      ]
     },
     "execution_count": 34,
     "metadata": {},
     "output_type": "execute_result"
    }
   ],
   "source": [
    "str_agg_df = structures_df.groupby('structure').count()\n",
    "sum(str_agg_df.index.str.endswith('community')) - sum(str_agg_df.index.str.startswith('bridge')) - sum(str_agg_df.index.str.startswith('outlier'))"
   ]
  },
  {
   "cell_type": "code",
   "execution_count": 35,
   "id": "e5183d5a-8174-4e3c-b61d-e717237e74de",
   "metadata": {},
   "outputs": [
    {
     "data": {
      "text/plain": [
       "21"
      ]
     },
     "execution_count": 35,
     "metadata": {},
     "output_type": "execute_result"
    }
   ],
   "source": [
    "sum(str_agg_df.index.str.endswith('mono'))"
   ]
  },
  {
   "cell_type": "code",
   "execution_count": 36,
   "id": "8d8b3183-60b1-4ce9-88fe-9bd4ff7903e3",
   "metadata": {},
   "outputs": [
    {
     "data": {
      "text/plain": [
       "8"
      ]
     },
     "execution_count": 36,
     "metadata": {},
     "output_type": "execute_result"
    }
   ],
   "source": [
    "sum(str_agg_df.index.str.startswith('outlier'))"
   ]
  },
  {
   "cell_type": "markdown",
   "id": "03b1e563-9dd8-4990-8a5b-1e18d7d40e62",
   "metadata": {},
   "source": [
    "## #6.4. Find putative ADGs"
   ]
  },
  {
   "cell_type": "code",
   "execution_count": 37,
   "id": "41438ef0-d695-45ee-b135-8b4fe396b7b4",
   "metadata": {},
   "outputs": [],
   "source": [
    "# known_adgs = ['107_clan', '67_clan', '148_pair', '1314_mono']\n",
    "# known_htgs = ['56_clan', '34_clan', '163_pair', '178_pair', '505_mono', '217_pair', '1272_mono']\n",
    "# known_adgs_and_htgs = known_adgs + known_htgs\n",
    "\n",
    "# to reduce noise, use only Ocr and SAMase \n",
    "known_adgs_and_htgs = ['107_clan', '67_clan']\n",
    "has_adgs_and_htgs = gff_df[['seq_id', 'ATTRIBUTE_clan']][gff_df.ATTRIBUTE_clan.isin(known_adgs_and_htgs)]['seq_id'].to_list()"
   ]
  },
  {
   "cell_type": "code",
   "execution_count": 38,
   "id": "1b7a57df-9d4e-4888-a10e-e5f58dcb5ea3",
   "metadata": {},
   "outputs": [],
   "source": [
    "has_adgs = gff_df[['seq_id', 'ATTRIBUTE_clan']][gff_df.ATTRIBUTE_clan.isin(known_adgs_and_htgs)]['seq_id'].to_list()"
   ]
  },
  {
   "cell_type": "code",
   "execution_count": 39,
   "id": "40527db5-d9cb-43c7-9c1c-8ac42ac40de0",
   "metadata": {},
   "outputs": [
    {
     "data": {
      "text/plain": [
       "86"
      ]
     },
     "execution_count": 39,
     "metadata": {},
     "output_type": "execute_result"
    }
   ],
   "source": [
    "len(has_adgs)"
   ]
  },
  {
   "cell_type": "code",
   "execution_count": 40,
   "id": "653ab206-0eb2-42c0-ae38-dce7739451c1",
   "metadata": {},
   "outputs": [
    {
     "name": "stdout",
     "output_type": "stream",
     "text": [
      "3_community has known\n",
      "7_community has known\n",
      "bridge: 7_community has known\n"
     ]
    }
   ],
   "source": [
    "novel = {}\n",
    "structures_with_known = set()\n",
    "loci_within_comm_with_known = set() \n",
    "for str_name, structure in structures_direct.items():\n",
    "    subset_loci = loci_df[loci_df.index.isin(structure)]\n",
    "    subset_loci_adgs = subset_loci[subset_loci.index.isin(has_adgs_and_htgs)]\n",
    "    if len(subset_loci_adgs) != 0:\n",
    "        structures_with_known.add(str_name)\n",
    "        loci_within_comm_with_known = loci_within_comm_with_known | structure\n",
    "        print(f'{str_name} has known')\n",
    "        subset_adgs_associated = {el for locus in subset_loci_adgs.clans.unique() for el in locus}\n",
    "        subset_loci_no_adgs = subset_loci[~subset_loci.clans.isin(subset_adgs_associated)]\n",
    "        novel_adgs = {e for l in subset_loci_no_adgs.clans.unique() for e in l} - subset_adgs_associated \n",
    "        novel[str_name] = novel_adgs"
   ]
  },
  {
   "cell_type": "code",
   "execution_count": 41,
   "id": "9ebc435c-d297-4f62-b2c9-7a7900574300",
   "metadata": {},
   "outputs": [
    {
     "data": {
      "text/plain": [
       "{'3_community', '7_community', 'bridge: 7_community'}"
      ]
     },
     "execution_count": 41,
     "metadata": {},
     "output_type": "execute_result"
    }
   ],
   "source": [
    "structures_with_known"
   ]
  },
  {
   "cell_type": "code",
   "execution_count": 39,
   "id": "1aaace11-c0ed-4fb2-a50f-c0e9a11f04b7",
   "metadata": {},
   "outputs": [],
   "source": [
    "# filtered_genomes_out_file = '../data_autographiviridae_meta/loci_similarity/communities_with_known_adgs_htgs.id'\n",
    "# with open(filtered_genomes_out_file, 'wt') as f:\n",
    "#     f.write('\\n'.join(loci_within_comm_with_known))"
   ]
  },
  {
   "cell_type": "code",
   "execution_count": 42,
   "id": "8741c297-b810-49f3-bdfb-95b0dd1c18da",
   "metadata": {},
   "outputs": [
    {
     "name": "stdout",
     "output_type": "stream",
     "text": [
      "3_community: {'1310_mono', '292_mono', '56_clan', '867_mono', '1246_mono', '1174_mono', '1264_mono', '757_mono', '1273_mono', '202_pair', '124_pair', '1335_mono', '1108_mono', '97_clan', '570_mono'}\n",
      "7_community: {'124_pair'}\n",
      "bridge: 7_community: set()\n"
     ]
    }
   ],
   "source": [
    "for i in structures_with_known:\n",
    "    print(f'{i}: {novel[i]}')"
   ]
  },
  {
   "cell_type": "code",
   "execution_count": 43,
   "id": "aabcf2b2-fb18-4bfb-b911-82b666faf4eb",
   "metadata": {},
   "outputs": [
    {
     "data": {
      "text/plain": [
       "{'124_pair'}"
      ]
     },
     "execution_count": 43,
     "metadata": {},
     "output_type": "execute_result"
    }
   ],
   "source": [
    "novel[\"7_community\"]"
   ]
  },
  {
   "cell_type": "code",
   "execution_count": 44,
   "id": "ef254fcf-90da-451c-b5ab-f726049a497d",
   "metadata": {},
   "outputs": [
    {
     "data": {
      "text/html": [
       "<div>\n",
       "<style scoped>\n",
       "    .dataframe tbody tr th:only-of-type {\n",
       "        vertical-align: middle;\n",
       "    }\n",
       "\n",
       "    .dataframe tbody tr th {\n",
       "        vertical-align: top;\n",
       "    }\n",
       "\n",
       "    .dataframe thead th {\n",
       "        text-align: right;\n",
       "    }\n",
       "</style>\n",
       "<table border=\"1\" class=\"dataframe\">\n",
       "  <thead>\n",
       "    <tr style=\"text-align: right;\">\n",
       "      <th></th>\n",
       "      <th>seq_id</th>\n",
       "      <th>source</th>\n",
       "      <th>type</th>\n",
       "      <th>start</th>\n",
       "      <th>end</th>\n",
       "      <th>score</th>\n",
       "      <th>strand</th>\n",
       "      <th>phase</th>\n",
       "      <th>ATTRIBUTE_ID</th>\n",
       "      <th>ATTRIBUTE_PFAM</th>\n",
       "      <th>ATTRIBUTE_prelim_info</th>\n",
       "      <th>ATTRIBUTE_clan</th>\n",
       "    </tr>\n",
       "    <tr>\n",
       "      <th>ATTRIBUTE_clu</th>\n",
       "      <th></th>\n",
       "      <th></th>\n",
       "      <th></th>\n",
       "      <th></th>\n",
       "      <th></th>\n",
       "      <th></th>\n",
       "      <th></th>\n",
       "      <th></th>\n",
       "      <th></th>\n",
       "      <th></th>\n",
       "      <th></th>\n",
       "      <th></th>\n",
       "    </tr>\n",
       "  </thead>\n",
       "  <tbody>\n",
       "    <tr>\n",
       "      <th>4601</th>\n",
       "      <td>1</td>\n",
       "      <td>1</td>\n",
       "      <td>1</td>\n",
       "      <td>1</td>\n",
       "      <td>1</td>\n",
       "      <td>1</td>\n",
       "      <td>1</td>\n",
       "      <td>1</td>\n",
       "      <td>1</td>\n",
       "      <td>0</td>\n",
       "      <td>1</td>\n",
       "      <td>1</td>\n",
       "    </tr>\n",
       "    <tr>\n",
       "      <th>6815</th>\n",
       "      <td>3</td>\n",
       "      <td>3</td>\n",
       "      <td>3</td>\n",
       "      <td>3</td>\n",
       "      <td>3</td>\n",
       "      <td>3</td>\n",
       "      <td>3</td>\n",
       "      <td>3</td>\n",
       "      <td>3</td>\n",
       "      <td>0</td>\n",
       "      <td>3</td>\n",
       "      <td>3</td>\n",
       "    </tr>\n",
       "  </tbody>\n",
       "</table>\n",
       "</div>"
      ],
      "text/plain": [
       "               seq_id  source  type  start  end  score  strand  phase   \n",
       "ATTRIBUTE_clu                                                           \n",
       "4601                1       1     1      1    1      1       1      1  \\\n",
       "6815                3       3     3      3    3      3       3      3   \n",
       "\n",
       "               ATTRIBUTE_ID  ATTRIBUTE_PFAM  ATTRIBUTE_prelim_info   \n",
       "ATTRIBUTE_clu                                                        \n",
       "4601                      1               0                      1  \\\n",
       "6815                      3               0                      3   \n",
       "\n",
       "               ATTRIBUTE_clan  \n",
       "ATTRIBUTE_clu                  \n",
       "4601                        1  \n",
       "6815                        3  "
      ]
     },
     "execution_count": 44,
     "metadata": {},
     "output_type": "execute_result"
    }
   ],
   "source": [
    "gff_df[gff_df['ATTRIBUTE_clan'].isin(novel[\"7_community\"])].groupby('ATTRIBUTE_clu').count().sort_values('start')"
   ]
  },
  {
   "cell_type": "code",
   "execution_count": 45,
   "id": "90eecde9-ce9d-4b17-be70-b1ae7720aa00",
   "metadata": {},
   "outputs": [
    {
     "data": {
      "text/html": [
       "<div>\n",
       "<style scoped>\n",
       "    .dataframe tbody tr th:only-of-type {\n",
       "        vertical-align: middle;\n",
       "    }\n",
       "\n",
       "    .dataframe tbody tr th {\n",
       "        vertical-align: top;\n",
       "    }\n",
       "\n",
       "    .dataframe thead th {\n",
       "        text-align: right;\n",
       "    }\n",
       "</style>\n",
       "<table border=\"1\" class=\"dataframe\">\n",
       "  <thead>\n",
       "    <tr style=\"text-align: right;\">\n",
       "      <th></th>\n",
       "      <th>seq_id</th>\n",
       "      <th>source</th>\n",
       "      <th>type</th>\n",
       "      <th>start</th>\n",
       "      <th>end</th>\n",
       "      <th>score</th>\n",
       "      <th>strand</th>\n",
       "      <th>phase</th>\n",
       "      <th>ATTRIBUTE_ID</th>\n",
       "      <th>ATTRIBUTE_PFAM</th>\n",
       "      <th>ATTRIBUTE_prelim_info</th>\n",
       "      <th>ATTRIBUTE_clu</th>\n",
       "      <th>ATTRIBUTE_clan</th>\n",
       "    </tr>\n",
       "  </thead>\n",
       "  <tbody>\n",
       "    <tr>\n",
       "      <th>0</th>\n",
       "      <td>MGV-GENOME-0276608</td>\n",
       "      <td>PHANOTATE</td>\n",
       "      <td>CDS</td>\n",
       "      <td>16935</td>\n",
       "      <td>19655</td>\n",
       "      <td>-329065679379797.06</td>\n",
       "      <td>-</td>\n",
       "      <td>0</td>\n",
       "      <td>MGV-GENOME-0276608.16935</td>\n",
       "      <td>PF14700.9,PF00940.22</td>\n",
       "      <td>nan</td>\n",
       "      <td>7905</td>\n",
       "      <td>1_clan</td>\n",
       "    </tr>\n",
       "    <tr>\n",
       "      <th>1</th>\n",
       "      <td>MGV-GENOME-0276608</td>\n",
       "      <td>PHANOTATE</td>\n",
       "      <td>CDS</td>\n",
       "      <td>19727</td>\n",
       "      <td>20731</td>\n",
       "      <td>-37179.9753</td>\n",
       "      <td>-</td>\n",
       "      <td>0</td>\n",
       "      <td>MGV-GENOME-0276608.19727</td>\n",
       "      <td>NaN</td>\n",
       "      <td>nan</td>\n",
       "      <td>4877</td>\n",
       "      <td>34_clan</td>\n",
       "    </tr>\n",
       "    <tr>\n",
       "      <th>2</th>\n",
       "      <td>MGV-GENOME-0276608</td>\n",
       "      <td>PHANOTATE</td>\n",
       "      <td>CDS</td>\n",
       "      <td>20766</td>\n",
       "      <td>20999</td>\n",
       "      <td>-3.7228</td>\n",
       "      <td>-</td>\n",
       "      <td>0</td>\n",
       "      <td>MGV-GENOME-0276608.20766</td>\n",
       "      <td>NaN</td>\n",
       "      <td>nan</td>\n",
       "      <td>71</td>\n",
       "      <td>408_mono</td>\n",
       "    </tr>\n",
       "    <tr>\n",
       "      <th>3</th>\n",
       "      <td>MGV-GENOME-0276608</td>\n",
       "      <td>PHANOTATE</td>\n",
       "      <td>CDS</td>\n",
       "      <td>20983</td>\n",
       "      <td>21180</td>\n",
       "      <td>-18.0055</td>\n",
       "      <td>-</td>\n",
       "      <td>0</td>\n",
       "      <td>MGV-GENOME-0276608.20983</td>\n",
       "      <td>NaN</td>\n",
       "      <td>nan</td>\n",
       "      <td>8282</td>\n",
       "      <td>56_clan</td>\n",
       "    </tr>\n",
       "    <tr>\n",
       "      <th>4</th>\n",
       "      <td>MGV-GENOME-0276608</td>\n",
       "      <td>PHANOTATE</td>\n",
       "      <td>CDS</td>\n",
       "      <td>21158</td>\n",
       "      <td>21304</td>\n",
       "      <td>-3.2176</td>\n",
       "      <td>-</td>\n",
       "      <td>0</td>\n",
       "      <td>MGV-GENOME-0276608.21158</td>\n",
       "      <td>NaN</td>\n",
       "      <td>nan</td>\n",
       "      <td>4687</td>\n",
       "      <td>38_clan, 56_clan</td>\n",
       "    </tr>\n",
       "    <tr>\n",
       "      <th>...</th>\n",
       "      <td>...</td>\n",
       "      <td>...</td>\n",
       "      <td>...</td>\n",
       "      <td>...</td>\n",
       "      <td>...</td>\n",
       "      <td>...</td>\n",
       "      <td>...</td>\n",
       "      <td>...</td>\n",
       "      <td>...</td>\n",
       "      <td>...</td>\n",
       "      <td>...</td>\n",
       "      <td>...</td>\n",
       "      <td>...</td>\n",
       "    </tr>\n",
       "    <tr>\n",
       "      <th>8424</th>\n",
       "      <td>Han_2018_ERR1398150_NODE_58_length_43653_cov_1...</td>\n",
       "      <td>PHANOTATE</td>\n",
       "      <td>CDS</td>\n",
       "      <td>4178</td>\n",
       "      <td>4585</td>\n",
       "      <td>-2.7831</td>\n",
       "      <td>+</td>\n",
       "      <td>0</td>\n",
       "      <td>Han_2018_ERR1398150_NODE_58_length_43653_cov_1...</td>\n",
       "      <td>NaN</td>\n",
       "      <td>nan</td>\n",
       "      <td>4177</td>\n",
       "      <td>17_clan</td>\n",
       "    </tr>\n",
       "    <tr>\n",
       "      <th>8425</th>\n",
       "      <td>Han_2018_ERR1398150_NODE_58_length_43653_cov_1...</td>\n",
       "      <td>PHANOTATE</td>\n",
       "      <td>CDS</td>\n",
       "      <td>4596</td>\n",
       "      <td>4688</td>\n",
       "      <td>-4.9517</td>\n",
       "      <td>+</td>\n",
       "      <td>0</td>\n",
       "      <td>Han_2018_ERR1398150_NODE_58_length_43653_cov_1...</td>\n",
       "      <td>NaN</td>\n",
       "      <td>nan</td>\n",
       "      <td>1841</td>\n",
       "      <td>59_clan</td>\n",
       "    </tr>\n",
       "    <tr>\n",
       "      <th>8426</th>\n",
       "      <td>Han_2018_ERR1398150_NODE_58_length_43653_cov_1...</td>\n",
       "      <td>PHANOTATE</td>\n",
       "      <td>CDS</td>\n",
       "      <td>4727</td>\n",
       "      <td>7195</td>\n",
       "      <td>-2108326688856.7007</td>\n",
       "      <td>+</td>\n",
       "      <td>0</td>\n",
       "      <td>Han_2018_ERR1398150_NODE_58_length_43653_cov_1...</td>\n",
       "      <td>PF14700.9,PF00940.22</td>\n",
       "      <td>nan</td>\n",
       "      <td>6901</td>\n",
       "      <td>1_clan</td>\n",
       "    </tr>\n",
       "    <tr>\n",
       "      <th>8427</th>\n",
       "      <td>Han_2018_ERR1398150_NODE_58_length_43653_cov_1...</td>\n",
       "      <td>PHANOTATE</td>\n",
       "      <td>CDS</td>\n",
       "      <td>43380</td>\n",
       "      <td>43488</td>\n",
       "      <td>-10.8297</td>\n",
       "      <td>+</td>\n",
       "      <td>0</td>\n",
       "      <td>Han_2018_ERR1398150_NODE_58_length_43653_cov_1...</td>\n",
       "      <td>NaN</td>\n",
       "      <td>nan</td>\n",
       "      <td>3818</td>\n",
       "      <td>86_clan</td>\n",
       "    </tr>\n",
       "    <tr>\n",
       "      <th>8428</th>\n",
       "      <td>Han_2018_ERR1398150_NODE_58_length_43653_cov_1...</td>\n",
       "      <td>PHANOTATE</td>\n",
       "      <td>CDS</td>\n",
       "      <td>43536</td>\n",
       "      <td>43652</td>\n",
       "      <td>-6.9939</td>\n",
       "      <td>+</td>\n",
       "      <td>0</td>\n",
       "      <td>Han_2018_ERR1398150_NODE_58_length_43653_cov_1...</td>\n",
       "      <td>NaN</td>\n",
       "      <td>nan</td>\n",
       "      <td>7419</td>\n",
       "      <td>1012_mono</td>\n",
       "    </tr>\n",
       "  </tbody>\n",
       "</table>\n",
       "<p>8429 rows × 13 columns</p>\n",
       "</div>"
      ],
      "text/plain": [
       "                                                 seq_id     source type   \n",
       "0                                    MGV-GENOME-0276608  PHANOTATE  CDS  \\\n",
       "1                                    MGV-GENOME-0276608  PHANOTATE  CDS   \n",
       "2                                    MGV-GENOME-0276608  PHANOTATE  CDS   \n",
       "3                                    MGV-GENOME-0276608  PHANOTATE  CDS   \n",
       "4                                    MGV-GENOME-0276608  PHANOTATE  CDS   \n",
       "...                                                 ...        ...  ...   \n",
       "8424  Han_2018_ERR1398150_NODE_58_length_43653_cov_1...  PHANOTATE  CDS   \n",
       "8425  Han_2018_ERR1398150_NODE_58_length_43653_cov_1...  PHANOTATE  CDS   \n",
       "8426  Han_2018_ERR1398150_NODE_58_length_43653_cov_1...  PHANOTATE  CDS   \n",
       "8427  Han_2018_ERR1398150_NODE_58_length_43653_cov_1...  PHANOTATE  CDS   \n",
       "8428  Han_2018_ERR1398150_NODE_58_length_43653_cov_1...  PHANOTATE  CDS   \n",
       "\n",
       "      start    end                score strand phase   \n",
       "0     16935  19655  -329065679379797.06      -     0  \\\n",
       "1     19727  20731          -37179.9753      -     0   \n",
       "2     20766  20999              -3.7228      -     0   \n",
       "3     20983  21180             -18.0055      -     0   \n",
       "4     21158  21304              -3.2176      -     0   \n",
       "...     ...    ...                  ...    ...   ...   \n",
       "8424   4178   4585              -2.7831      +     0   \n",
       "8425   4596   4688              -4.9517      +     0   \n",
       "8426   4727   7195  -2108326688856.7007      +     0   \n",
       "8427  43380  43488             -10.8297      +     0   \n",
       "8428  43536  43652              -6.9939      +     0   \n",
       "\n",
       "                                           ATTRIBUTE_ID        ATTRIBUTE_PFAM   \n",
       "0                              MGV-GENOME-0276608.16935  PF14700.9,PF00940.22  \\\n",
       "1                              MGV-GENOME-0276608.19727                   NaN   \n",
       "2                              MGV-GENOME-0276608.20766                   NaN   \n",
       "3                              MGV-GENOME-0276608.20983                   NaN   \n",
       "4                              MGV-GENOME-0276608.21158                   NaN   \n",
       "...                                                 ...                   ...   \n",
       "8424  Han_2018_ERR1398150_NODE_58_length_43653_cov_1...                   NaN   \n",
       "8425  Han_2018_ERR1398150_NODE_58_length_43653_cov_1...                   NaN   \n",
       "8426  Han_2018_ERR1398150_NODE_58_length_43653_cov_1...  PF14700.9,PF00940.22   \n",
       "8427  Han_2018_ERR1398150_NODE_58_length_43653_cov_1...                   NaN   \n",
       "8428  Han_2018_ERR1398150_NODE_58_length_43653_cov_1...                   NaN   \n",
       "\n",
       "     ATTRIBUTE_prelim_info ATTRIBUTE_clu    ATTRIBUTE_clan  \n",
       "0                      nan          7905            1_clan  \n",
       "1                      nan          4877           34_clan  \n",
       "2                      nan            71          408_mono  \n",
       "3                      nan          8282           56_clan  \n",
       "4                      nan          4687  38_clan, 56_clan  \n",
       "...                    ...           ...               ...  \n",
       "8424                   nan          4177           17_clan  \n",
       "8425                   nan          1841           59_clan  \n",
       "8426                   nan          6901            1_clan  \n",
       "8427                   nan          3818           86_clan  \n",
       "8428                   nan          7419         1012_mono  \n",
       "\n",
       "[8429 rows x 13 columns]"
      ]
     },
     "execution_count": 45,
     "metadata": {},
     "output_type": "execute_result"
    }
   ],
   "source": [
    "gff_df"
   ]
  },
  {
   "cell_type": "markdown",
   "id": "6561db3f-a3ec-4e39-b29c-523b56ab7d5e",
   "metadata": {},
   "source": [
    "# Sandbox"
   ]
  },
  {
   "cell_type": "markdown",
   "id": "eef26a6f-c169-46a5-a051-0fbb2b4a36e4",
   "metadata": {},
   "source": [
    "Compare distributions (observed with one of the permutation)"
   ]
  },
  {
   "cell_type": "code",
   "execution_count": 46,
   "id": "8e17e3c6-1e1b-475b-be32-d314d420dbd6",
   "metadata": {},
   "outputs": [
    {
     "data": {
      "image/png": "[encoded data removed]",
      "text/plain": [
       "<Figure size 640x480 with 1 Axes>"
      ]
     },
     "metadata": {},
     "output_type": "display_data"
    }
   ],
   "source": [
    "plt.hist(scores_df_melted_perm_replaced.value, alpha=0.3, density=True, bins=30, fill=True, range=[-5, 17], ec=\"black\", color='tomato', label='$S_{100}\\ (permuted)$') \n",
    "plt.hist(scores_df_melted_replaced.value, alpha=0.3, density=True, bins=30, fill=True, ec=\"black\",  range=[-5, 17], color='blue', label='$S_{Observed}$')\n",
    "plt.axvline(nf_qua_values.max(), ls='--', color='tomato', label='$q_{0.95} (\\max_{\\pi_i \\in \\Pi}(S_i) )$')\n",
    "plt.legend(loc='upper right')  \n",
    "plt.ylabel('Probability')\n",
    "plt.xlabel('$S$');"
   ]
  },
  {
   "cell_type": "markdown",
   "id": "f7b54a51-511c-4b96-a480-bb17750d5d3b",
   "metadata": {},
   "source": [
    "#### Try use rugplot"
   ]
  },
  {
   "cell_type": "code",
   "execution_count": 47,
   "id": "2433b9c5-0b83-4928-a6fc-0ed21c9528af",
   "metadata": {},
   "outputs": [],
   "source": [
    "nf_qua_values_df = pd.DataFrame({'permuted_q99': nf_qua_values})\n",
    "# np.quantile(nf_qua_values, 0.99)"
   ]
  },
  {
   "cell_type": "code",
   "execution_count": 48,
   "id": "7793f18a-0e5f-476e-ab93-f02f8665acb2",
   "metadata": {},
   "outputs": [
    {
     "data": {
      "text/html": [
       "<div>\n",
       "<style scoped>\n",
       "    .dataframe tbody tr th:only-of-type {\n",
       "        vertical-align: middle;\n",
       "    }\n",
       "\n",
       "    .dataframe tbody tr th {\n",
       "        vertical-align: top;\n",
       "    }\n",
       "\n",
       "    .dataframe thead th {\n",
       "        text-align: right;\n",
       "    }\n",
       "</style>\n",
       "<table border=\"1\" class=\"dataframe\">\n",
       "  <thead>\n",
       "    <tr style=\"text-align: right;\">\n",
       "      <th></th>\n",
       "      <th>permuted_q99</th>\n",
       "    </tr>\n",
       "  </thead>\n",
       "  <tbody>\n",
       "    <tr>\n",
       "      <th>0</th>\n",
       "      <td>0.192120</td>\n",
       "    </tr>\n",
       "    <tr>\n",
       "      <th>1</th>\n",
       "      <td>0.116097</td>\n",
       "    </tr>\n",
       "    <tr>\n",
       "      <th>2</th>\n",
       "      <td>0.195726</td>\n",
       "    </tr>\n",
       "    <tr>\n",
       "      <th>3</th>\n",
       "      <td>0.049824</td>\n",
       "    </tr>\n",
       "    <tr>\n",
       "      <th>4</th>\n",
       "      <td>0.253494</td>\n",
       "    </tr>\n",
       "    <tr>\n",
       "      <th>...</th>\n",
       "      <td>...</td>\n",
       "    </tr>\n",
       "    <tr>\n",
       "      <th>495</th>\n",
       "      <td>0.133386</td>\n",
       "    </tr>\n",
       "    <tr>\n",
       "      <th>496</th>\n",
       "      <td>0.049824</td>\n",
       "    </tr>\n",
       "    <tr>\n",
       "      <th>497</th>\n",
       "      <td>0.049824</td>\n",
       "    </tr>\n",
       "    <tr>\n",
       "      <th>498</th>\n",
       "      <td>0.133386</td>\n",
       "    </tr>\n",
       "    <tr>\n",
       "      <th>499</th>\n",
       "      <td>0.146498</td>\n",
       "    </tr>\n",
       "  </tbody>\n",
       "</table>\n",
       "<p>500 rows × 1 columns</p>\n",
       "</div>"
      ],
      "text/plain": [
       "     permuted_q99\n",
       "0        0.192120\n",
       "1        0.116097\n",
       "2        0.195726\n",
       "3        0.049824\n",
       "4        0.253494\n",
       "..            ...\n",
       "495      0.133386\n",
       "496      0.049824\n",
       "497      0.049824\n",
       "498      0.133386\n",
       "499      0.146498\n",
       "\n",
       "[500 rows x 1 columns]"
      ]
     },
     "execution_count": 48,
     "metadata": {},
     "output_type": "execute_result"
    }
   ],
   "source": [
    "nf_qua_values_df"
   ]
  },
  {
   "cell_type": "code",
   "execution_count": 49,
   "id": "db3f5b59-8a14-4965-9675-7e80e96f1996",
   "metadata": {},
   "outputs": [
    {
     "data": {
      "text/plain": [
       "<Axes: xlabel='permuted_q99'>"
      ]
     },
     "execution_count": 49,
     "metadata": {},
     "output_type": "execute_result"
    },
    {
     "data": {
      "image/png": "[encoded data removed]",
      "text/plain": [
       "<Figure size 640x480 with 1 Axes>"
      ]
     },
     "metadata": {},
     "output_type": "display_data"
    }
   ],
   "source": [
    "sns.rugplot(data=nf_qua_values_df, x=\"permuted_q99\")"
   ]
  },
  {
   "cell_type": "code",
   "execution_count": 50,
   "id": "11eb338a-5be9-455b-b98c-5f56d2dac889",
   "metadata": {},
   "outputs": [
    {
     "data": {
      "text/plain": [
       "<Axes: xlabel='value', ylabel='Density'>"
      ]
     },
     "execution_count": 50,
     "metadata": {},
     "output_type": "execute_result"
    },
    {
     "data": {
      "image/png": "[encoded data removed]",
      "text/plain": [
       "<Figure size 640x480 with 1 Axes>"
      ]
     },
     "metadata": {},
     "output_type": "display_data"
    }
   ],
   "source": [
    "sns.kdeplot(data=scores_df_melted_replaced, x=\"value\")\n",
    "sns.rugplot(data=nf_qua_values_df, x=\"permuted_q99\")"
   ]
  },
  {
   "cell_type": "markdown",
   "id": "7c1403ae-8200-479c-afc0-e5eb158b3aa4",
   "metadata": {},
   "source": [
    "Compare a set of permutations"
   ]
  },
  {
   "cell_type": "code",
   "execution_count": 51,
   "id": "d484abf5-ad9e-4669-bbdf-523f95fd5bfd",
   "metadata": {},
   "outputs": [
    {
     "data": {
      "text/plain": [
       "<Figure size 2000x2400 with 0 Axes>"
      ]
     },
     "metadata": {},
     "output_type": "display_data"
    },
    {
     "data": {
      "image/png": "[encoded data removed]",
      "text/plain": [
       "<Figure size 640x480 with 10 Axes>"
      ]
     },
     "metadata": {},
     "output_type": "display_data"
    }
   ],
   "source": [
    "plt.figure(figsize=(20,24))\n",
    "figure, axis = plt.subplots(5, 2) \n",
    "\n",
    "for i in range(10):\n",
    "    loc_y = i // 5\n",
    "    loc_x = i % 5\n",
    "    name = f'permutation_{i}'\n",
    "    sub_df = df.query('permutation == @name')\n",
    "    replacement_score = sub_df[sub_df.value != float('+inf')].value.max() \n",
    "    sub_df = sub_df.replace(float('+inf'), replacement_score + 1)\n",
    "    axis[loc_x, loc_y].hist(sub_df.value, density=True, bins=25, fill=True,  range=[-10, 17], ec=\"black\", color='white', label='$S_{Permuted}$')\n",
    "    axis[loc_x, loc_y].hist(scores_df_melted_replaced.value, alpha=0.3, density=True, bins=25, fill=True, ec=\"black\",  range=[-10, 17], color='blue', label='$S_{Observed}$')\n",
    "    axis[loc_x, loc_y].axvline(np.quantile(sub_df.value, 0.99), ls='--', color='tomato', label='$q_{0.99} (S_{permuted})$')\n",
    "    axis[loc_x, loc_y].legend()\n",
    "    axis[loc_x, loc_y].set_title(f\"Permutation {i + 1}\") \n",
    "plt.subplots_adjust(left=0.1,\n",
    "                    bottom=0.1, \n",
    "                    right=1.5, \n",
    "                    top=3, \n",
    "                    wspace=0.2, \n",
    "                    hspace=0.4)\n",
    "# plt.show() \n",
    "plt.savefig('../data_autographiviridae_meta/pics/replicates_hist.png', dpi=300, bbox_inches='tight')"
   ]
  },
  {
   "cell_type": "code",
   "execution_count": 52,
   "id": "77567764-227b-4831-9c07-4e8ee33aed8c",
   "metadata": {},
   "outputs": [
    {
     "data": {
      "text/html": [
       "<div>\n",
       "<style scoped>\n",
       "    .dataframe tbody tr th:only-of-type {\n",
       "        vertical-align: middle;\n",
       "    }\n",
       "\n",
       "    .dataframe tbody tr th {\n",
       "        vertical-align: top;\n",
       "    }\n",
       "\n",
       "    .dataframe thead th {\n",
       "        text-align: right;\n",
       "    }\n",
       "</style>\n",
       "<table border=\"1\" class=\"dataframe\">\n",
       "  <thead>\n",
       "    <tr style=\"text-align: right;\">\n",
       "      <th></th>\n",
       "      <th>seq_id</th>\n",
       "      <th>source</th>\n",
       "      <th>type</th>\n",
       "      <th>start</th>\n",
       "      <th>end</th>\n",
       "      <th>score</th>\n",
       "      <th>strand</th>\n",
       "      <th>phase</th>\n",
       "      <th>ATTRIBUTE_ID</th>\n",
       "      <th>ATTRIBUTE_PFAM</th>\n",
       "      <th>ATTRIBUTE_prelim_info</th>\n",
       "      <th>ATTRIBUTE_clu</th>\n",
       "      <th>ATTRIBUTE_clan</th>\n",
       "    </tr>\n",
       "  </thead>\n",
       "  <tbody>\n",
       "    <tr>\n",
       "      <th>124</th>\n",
       "      <td>MGV-GENOME-0340861</td>\n",
       "      <td>PHANOTATE</td>\n",
       "      <td>CDS</td>\n",
       "      <td>31275</td>\n",
       "      <td>33155</td>\n",
       "      <td>-2.929427032264066e+17</td>\n",
       "      <td>-</td>\n",
       "      <td>0</td>\n",
       "      <td>MGV-GENOME-0340861.31275</td>\n",
       "      <td>PF00940.22</td>\n",
       "      <td>nan</td>\n",
       "      <td>385</td>\n",
       "      <td>1_clan, 2_clan, 13_clan</td>\n",
       "    </tr>\n",
       "    <tr>\n",
       "      <th>125</th>\n",
       "      <td>MGV-GENOME-0340861</td>\n",
       "      <td>PHANOTATE</td>\n",
       "      <td>CDS</td>\n",
       "      <td>33118</td>\n",
       "      <td>33498</td>\n",
       "      <td>-149.2085</td>\n",
       "      <td>-</td>\n",
       "      <td>0</td>\n",
       "      <td>MGV-GENOME-0340861.33118</td>\n",
       "      <td>NaN</td>\n",
       "      <td>nan</td>\n",
       "      <td>7687</td>\n",
       "      <td>363_mono</td>\n",
       "    </tr>\n",
       "    <tr>\n",
       "      <th>126</th>\n",
       "      <td>MGV-GENOME-0340861</td>\n",
       "      <td>PHANOTATE</td>\n",
       "      <td>CDS</td>\n",
       "      <td>33624</td>\n",
       "      <td>33806</td>\n",
       "      <td>-4.5216</td>\n",
       "      <td>-</td>\n",
       "      <td>0</td>\n",
       "      <td>MGV-GENOME-0340861.33624</td>\n",
       "      <td>NaN</td>\n",
       "      <td>nan</td>\n",
       "      <td>7951</td>\n",
       "      <td>873_mono</td>\n",
       "    </tr>\n",
       "    <tr>\n",
       "      <th>127</th>\n",
       "      <td>MGV-GENOME-0340861</td>\n",
       "      <td>PHANOTATE</td>\n",
       "      <td>CDS</td>\n",
       "      <td>33800</td>\n",
       "      <td>33976</td>\n",
       "      <td>-108.1108</td>\n",
       "      <td>-</td>\n",
       "      <td>0</td>\n",
       "      <td>MGV-GENOME-0340861.33800</td>\n",
       "      <td>NaN</td>\n",
       "      <td>nan</td>\n",
       "      <td>8215</td>\n",
       "      <td>1256_mono</td>\n",
       "    </tr>\n",
       "    <tr>\n",
       "      <th>128</th>\n",
       "      <td>MGV-GENOME-0340861</td>\n",
       "      <td>PHANOTATE</td>\n",
       "      <td>CDS</td>\n",
       "      <td>33987</td>\n",
       "      <td>34115</td>\n",
       "      <td>-2.347</td>\n",
       "      <td>-</td>\n",
       "      <td>0</td>\n",
       "      <td>MGV-GENOME-0340861.33987</td>\n",
       "      <td>NaN</td>\n",
       "      <td>nan</td>\n",
       "      <td>4</td>\n",
       "      <td>1367_mono</td>\n",
       "    </tr>\n",
       "    <tr>\n",
       "      <th>...</th>\n",
       "      <td>...</td>\n",
       "      <td>...</td>\n",
       "      <td>...</td>\n",
       "      <td>...</td>\n",
       "      <td>...</td>\n",
       "      <td>...</td>\n",
       "      <td>...</td>\n",
       "      <td>...</td>\n",
       "      <td>...</td>\n",
       "      <td>...</td>\n",
       "      <td>...</td>\n",
       "      <td>...</td>\n",
       "      <td>...</td>\n",
       "    </tr>\n",
       "    <tr>\n",
       "      <th>8376</th>\n",
       "      <td>MGV-GENOME-0198224</td>\n",
       "      <td>PHANOTATE</td>\n",
       "      <td>CDS</td>\n",
       "      <td>12391</td>\n",
       "      <td>12765</td>\n",
       "      <td>-105.2794</td>\n",
       "      <td>-</td>\n",
       "      <td>0</td>\n",
       "      <td>MGV-GENOME-0198224.12391</td>\n",
       "      <td>NaN</td>\n",
       "      <td>nan</td>\n",
       "      <td>4781</td>\n",
       "      <td>220_pair</td>\n",
       "    </tr>\n",
       "    <tr>\n",
       "      <th>8377</th>\n",
       "      <td>MGV-GENOME-0198224</td>\n",
       "      <td>PHANOTATE</td>\n",
       "      <td>CDS</td>\n",
       "      <td>12870</td>\n",
       "      <td>13025</td>\n",
       "      <td>-6.9513</td>\n",
       "      <td>-</td>\n",
       "      <td>0</td>\n",
       "      <td>MGV-GENOME-0198224.12870</td>\n",
       "      <td>NaN</td>\n",
       "      <td>nan</td>\n",
       "      <td>2383</td>\n",
       "      <td>66_clan</td>\n",
       "    </tr>\n",
       "    <tr>\n",
       "      <th>8378</th>\n",
       "      <td>MGV-GENOME-0198224</td>\n",
       "      <td>PHANOTATE</td>\n",
       "      <td>CDS</td>\n",
       "      <td>13078</td>\n",
       "      <td>13911</td>\n",
       "      <td>-3024.1532</td>\n",
       "      <td>-</td>\n",
       "      <td>0</td>\n",
       "      <td>MGV-GENOME-0198224.13078</td>\n",
       "      <td>NaN</td>\n",
       "      <td>nan</td>\n",
       "      <td>6574</td>\n",
       "      <td>9_clan</td>\n",
       "    </tr>\n",
       "    <tr>\n",
       "      <th>8379</th>\n",
       "      <td>MGV-GENOME-0198224</td>\n",
       "      <td>PHANOTATE</td>\n",
       "      <td>CDS</td>\n",
       "      <td>13967</td>\n",
       "      <td>14146</td>\n",
       "      <td>-7.1833</td>\n",
       "      <td>-</td>\n",
       "      <td>0</td>\n",
       "      <td>MGV-GENOME-0198224.13967</td>\n",
       "      <td>NaN</td>\n",
       "      <td>nan</td>\n",
       "      <td>3818</td>\n",
       "      <td>86_clan</td>\n",
       "    </tr>\n",
       "    <tr>\n",
       "      <th>8380</th>\n",
       "      <td>MGV-GENOME-0198224</td>\n",
       "      <td>PHANOTATE</td>\n",
       "      <td>CDS</td>\n",
       "      <td>14167</td>\n",
       "      <td>14188</td>\n",
       "      <td>-157.9265</td>\n",
       "      <td>-</td>\n",
       "      <td>0</td>\n",
       "      <td>MGV-GENOME-0198224.14167</td>\n",
       "      <td>NaN</td>\n",
       "      <td>nan</td>\n",
       "      <td>3178</td>\n",
       "      <td>17_clan</td>\n",
       "    </tr>\n",
       "  </tbody>\n",
       "</table>\n",
       "<p>822 rows × 13 columns</p>\n",
       "</div>"
      ],
      "text/plain": [
       "                  seq_id     source type  start    end   \n",
       "124   MGV-GENOME-0340861  PHANOTATE  CDS  31275  33155  \\\n",
       "125   MGV-GENOME-0340861  PHANOTATE  CDS  33118  33498   \n",
       "126   MGV-GENOME-0340861  PHANOTATE  CDS  33624  33806   \n",
       "127   MGV-GENOME-0340861  PHANOTATE  CDS  33800  33976   \n",
       "128   MGV-GENOME-0340861  PHANOTATE  CDS  33987  34115   \n",
       "...                  ...        ...  ...    ...    ...   \n",
       "8376  MGV-GENOME-0198224  PHANOTATE  CDS  12391  12765   \n",
       "8377  MGV-GENOME-0198224  PHANOTATE  CDS  12870  13025   \n",
       "8378  MGV-GENOME-0198224  PHANOTATE  CDS  13078  13911   \n",
       "8379  MGV-GENOME-0198224  PHANOTATE  CDS  13967  14146   \n",
       "8380  MGV-GENOME-0198224  PHANOTATE  CDS  14167  14188   \n",
       "\n",
       "                       score strand phase              ATTRIBUTE_ID   \n",
       "124   -2.929427032264066e+17      -     0  MGV-GENOME-0340861.31275  \\\n",
       "125                -149.2085      -     0  MGV-GENOME-0340861.33118   \n",
       "126                  -4.5216      -     0  MGV-GENOME-0340861.33624   \n",
       "127                -108.1108      -     0  MGV-GENOME-0340861.33800   \n",
       "128                   -2.347      -     0  MGV-GENOME-0340861.33987   \n",
       "...                      ...    ...   ...                       ...   \n",
       "8376               -105.2794      -     0  MGV-GENOME-0198224.12391   \n",
       "8377                 -6.9513      -     0  MGV-GENOME-0198224.12870   \n",
       "8378              -3024.1532      -     0  MGV-GENOME-0198224.13078   \n",
       "8379                 -7.1833      -     0  MGV-GENOME-0198224.13967   \n",
       "8380               -157.9265      -     0  MGV-GENOME-0198224.14167   \n",
       "\n",
       "     ATTRIBUTE_PFAM ATTRIBUTE_prelim_info ATTRIBUTE_clu   \n",
       "124      PF00940.22                   nan           385  \\\n",
       "125             NaN                   nan          7687   \n",
       "126             NaN                   nan          7951   \n",
       "127             NaN                   nan          8215   \n",
       "128             NaN                   nan             4   \n",
       "...             ...                   ...           ...   \n",
       "8376            NaN                   nan          4781   \n",
       "8377            NaN                   nan          2383   \n",
       "8378            NaN                   nan          6574   \n",
       "8379            NaN                   nan          3818   \n",
       "8380            NaN                   nan          3178   \n",
       "\n",
       "               ATTRIBUTE_clan  \n",
       "124   1_clan, 2_clan, 13_clan  \n",
       "125                  363_mono  \n",
       "126                  873_mono  \n",
       "127                 1256_mono  \n",
       "128                 1367_mono  \n",
       "...                       ...  \n",
       "8376                 220_pair  \n",
       "8377                  66_clan  \n",
       "8378                   9_clan  \n",
       "8379                  86_clan  \n",
       "8380                  17_clan  \n",
       "\n",
       "[822 rows x 13 columns]"
      ]
     },
     "execution_count": 52,
     "metadata": {},
     "output_type": "execute_result"
    }
   ],
   "source": [
    "# Make sample first\n",
    "\n",
    "gff_df[['seq_id', 'ATTRIBUTE_clan']]\n",
    "sample = np.random.choice(gff_df.seq_id.unique(), 100)\n",
    "gff_df.query('seq_id in @sample') "
   ]
  },
  {
   "cell_type": "markdown",
   "id": "262c5c97-a920-4293-ad0e-1a0787460fb5",
   "metadata": {},
   "source": [
    "##### export communities data"
   ]
  },
  {
   "cell_type": "code",
   "execution_count": 53,
   "id": "5b28e59f-193f-41e1-ba65-72f6dbe7c552",
   "metadata": {},
   "outputs": [
    {
     "data": {
      "text/html": [
       "<div>\n",
       "<style scoped>\n",
       "    .dataframe tbody tr th:only-of-type {\n",
       "        vertical-align: middle;\n",
       "    }\n",
       "\n",
       "    .dataframe tbody tr th {\n",
       "        vertical-align: top;\n",
       "    }\n",
       "\n",
       "    .dataframe thead th {\n",
       "        text-align: right;\n",
       "    }\n",
       "</style>\n",
       "<table border=\"1\" class=\"dataframe\">\n",
       "  <thead>\n",
       "    <tr style=\"text-align: right;\">\n",
       "      <th></th>\n",
       "      <th>clu</th>\n",
       "      <th>prot</th>\n",
       "      <th>prelim_info</th>\n",
       "      <th>phrog</th>\n",
       "      <th>annot</th>\n",
       "      <th>phrog_category</th>\n",
       "      <th>pfam_dom</th>\n",
       "      <th>pfam_id</th>\n",
       "      <th>apis</th>\n",
       "      <th>dbapis_clan_id</th>\n",
       "      <th>apis_genes</th>\n",
       "      <th>defense_systems</th>\n",
       "      <th>seq</th>\n",
       "      <th>length</th>\n",
       "      <th>pi</th>\n",
       "      <th>clan</th>\n",
       "    </tr>\n",
       "  </thead>\n",
       "  <tbody>\n",
       "    <tr>\n",
       "      <th>0</th>\n",
       "      <td>1275</td>\n",
       "      <td>SRS018573_a1_ct23703_vs1@Podoviridae__sp._ct5q...</td>\n",
       "      <td>NaN</td>\n",
       "      <td>NaN</td>\n",
       "      <td>NaN</td>\n",
       "      <td>NaN</td>\n",
       "      <td>NaN</td>\n",
       "      <td>NaN</td>\n",
       "      <td>NaN</td>\n",
       "      <td>NaN</td>\n",
       "      <td>NaN</td>\n",
       "      <td>NaN</td>\n",
       "      <td>VGCEVHELPRYQGLAEAAPGLLGAAPEAVHLPLPQD*</td>\n",
       "      <td>37</td>\n",
       "      <td>4.56</td>\n",
       "      <td>1338_mono</td>\n",
       "    </tr>\n",
       "    <tr>\n",
       "      <th>1</th>\n",
       "      <td>3457</td>\n",
       "      <td>MGV-GENOME-0150089.17563</td>\n",
       "      <td>NaN</td>\n",
       "      <td>NaN</td>\n",
       "      <td>NaN</td>\n",
       "      <td>NaN</td>\n",
       "      <td>NaN</td>\n",
       "      <td>NaN</td>\n",
       "      <td>NaN</td>\n",
       "      <td>NaN</td>\n",
       "      <td>NaN</td>\n",
       "      <td>NaN</td>\n",
       "      <td>VIRYSHRQGDSANAFPSRKNFNLLRSDKSLQTKGGKENGNYNS*</td>\n",
       "      <td>44</td>\n",
       "      <td>10.28</td>\n",
       "      <td>192_pair</td>\n",
       "    </tr>\n",
       "    <tr>\n",
       "      <th>2</th>\n",
       "      <td>321</td>\n",
       "      <td>MGV-GENOME-0267293.5705</td>\n",
       "      <td>NaN</td>\n",
       "      <td>NaN</td>\n",
       "      <td>NaN</td>\n",
       "      <td>NaN</td>\n",
       "      <td>NaN</td>\n",
       "      <td>NaN</td>\n",
       "      <td>NaN</td>\n",
       "      <td>NaN</td>\n",
       "      <td>NaN</td>\n",
       "      <td>NaN</td>\n",
       "      <td>MFPIDRDTLETYIAMGMFHGLCLAVSLFIAWLLFWIIGGCK*</td>\n",
       "      <td>42</td>\n",
       "      <td>5.36</td>\n",
       "      <td>106_clan</td>\n",
       "    </tr>\n",
       "    <tr>\n",
       "      <th>3</th>\n",
       "      <td>321</td>\n",
       "      <td>MGV-GENOME-0268032.34655</td>\n",
       "      <td>NaN</td>\n",
       "      <td>NaN</td>\n",
       "      <td>NaN</td>\n",
       "      <td>NaN</td>\n",
       "      <td>NaN</td>\n",
       "      <td>NaN</td>\n",
       "      <td>NaN</td>\n",
       "      <td>NaN</td>\n",
       "      <td>NaN</td>\n",
       "      <td>NaN</td>\n",
       "      <td>MFPIDRDTLETYIAIGMFHGLCLVVSLFIAWLLFWIIGGCK*</td>\n",
       "      <td>42</td>\n",
       "      <td>5.36</td>\n",
       "      <td>106_clan</td>\n",
       "    </tr>\n",
       "    <tr>\n",
       "      <th>4</th>\n",
       "      <td>321</td>\n",
       "      <td>MGV-GENOME-0263392.34117</td>\n",
       "      <td>NaN</td>\n",
       "      <td>NaN</td>\n",
       "      <td>NaN</td>\n",
       "      <td>NaN</td>\n",
       "      <td>NaN</td>\n",
       "      <td>NaN</td>\n",
       "      <td>NaN</td>\n",
       "      <td>NaN</td>\n",
       "      <td>NaN</td>\n",
       "      <td>NaN</td>\n",
       "      <td>MFPIDKDTLETYIAMGMFHGLCLAVSLFIAWLLFWIIGGCK*</td>\n",
       "      <td>42</td>\n",
       "      <td>5.36</td>\n",
       "      <td>106_clan</td>\n",
       "    </tr>\n",
       "  </tbody>\n",
       "</table>\n",
       "</div>"
      ],
      "text/plain": [
       "    clu                                               prot  prelim_info phrog   \n",
       "0  1275  SRS018573_a1_ct23703_vs1@Podoviridae__sp._ct5q...          NaN   NaN  \\\n",
       "1  3457                           MGV-GENOME-0150089.17563          NaN   NaN   \n",
       "2   321                            MGV-GENOME-0267293.5705          NaN   NaN   \n",
       "3   321                           MGV-GENOME-0268032.34655          NaN   NaN   \n",
       "4   321                           MGV-GENOME-0263392.34117          NaN   NaN   \n",
       "\n",
       "  annot phrog_category pfam_dom pfam_id apis dbapis_clan_id apis_genes   \n",
       "0   NaN            NaN      NaN     NaN  NaN            NaN        NaN  \\\n",
       "1   NaN            NaN      NaN     NaN  NaN            NaN        NaN   \n",
       "2   NaN            NaN      NaN     NaN  NaN            NaN        NaN   \n",
       "3   NaN            NaN      NaN     NaN  NaN            NaN        NaN   \n",
       "4   NaN            NaN      NaN     NaN  NaN            NaN        NaN   \n",
       "\n",
       "  defense_systems                                           seq  length   \n",
       "0             NaN         VGCEVHELPRYQGLAEAAPGLLGAAPEAVHLPLPQD*      37  \\\n",
       "1             NaN  VIRYSHRQGDSANAFPSRKNFNLLRSDKSLQTKGGKENGNYNS*      44   \n",
       "2             NaN    MFPIDRDTLETYIAMGMFHGLCLAVSLFIAWLLFWIIGGCK*      42   \n",
       "3             NaN    MFPIDRDTLETYIAIGMFHGLCLVVSLFIAWLLFWIIGGCK*      42   \n",
       "4             NaN    MFPIDKDTLETYIAMGMFHGLCLAVSLFIAWLLFWIIGGCK*      42   \n",
       "\n",
       "      pi       clan  \n",
       "0   4.56  1338_mono  \n",
       "1  10.28   192_pair  \n",
       "2   5.36   106_clan  \n",
       "3   5.36   106_clan  \n",
       "4   5.36   106_clan  "
      ]
     },
     "execution_count": 53,
     "metadata": {},
     "output_type": "execute_result"
    }
   ],
   "source": [
    "long_list = pd.read_csv('../data_autographiviridae_meta/clans_info/res_table_long.tsv', sep='\\t')\n",
    "long_list.head()"
   ]
  },
  {
   "cell_type": "code",
   "execution_count": 54,
   "id": "63a6180b-300c-463f-baf1-40b9c9172e18",
   "metadata": {},
   "outputs": [],
   "source": [
    "t3t7_hits = pd.read_csv('../data_autographiviridae_meta/mmseqs_dbs/t3_and_t7/homologs.m8', sep='\\t',\n",
    "           names = ['prot', 't3t7_hit', 'seqid', 'nmatch', 'nmmatch', 'ngap', 'smth', 'smth2', 'smth3', 'smth4', 'eval', 'bitscore'])\n",
    "t3t7_hits = t3t7_hits.iloc[t3t7_hits.groupby('t3t7_hit').eval.idxmin()]\n",
    "t3t7_hits = t3t7_hits[['prot', 't3t7_hit']]"
   ]
  },
  {
   "cell_type": "code",
   "execution_count": 55,
   "id": "44a2a588-0ea6-4318-ba99-86dcfc082ca3",
   "metadata": {},
   "outputs": [],
   "source": [
    "long_refseq = pd.read_csv('../data_autographiviridae_refseq/clans_info/res_table_long.tsv', sep='\\t')\n",
    "t3t7_hits = t3t7_hits.set_index('t3t7_hit').join(long_refseq[long_refseq['prelim_info'].notna()][['prot', 'prelim_info']].set_index('prot'))"
   ]
  },
  {
   "cell_type": "code",
   "execution_count": 56,
   "id": "707fda22-2f67-4419-9c4e-1c9d060afecc",
   "metadata": {},
   "outputs": [
    {
     "data": {
      "text/html": [
       "<div>\n",
       "<style scoped>\n",
       "    .dataframe tbody tr th:only-of-type {\n",
       "        vertical-align: middle;\n",
       "    }\n",
       "\n",
       "    .dataframe tbody tr th {\n",
       "        vertical-align: top;\n",
       "    }\n",
       "\n",
       "    .dataframe thead th {\n",
       "        text-align: right;\n",
       "    }\n",
       "</style>\n",
       "<table border=\"1\" class=\"dataframe\">\n",
       "  <thead>\n",
       "    <tr style=\"text-align: right;\">\n",
       "      <th></th>\n",
       "      <th>t3t7_hit</th>\n",
       "      <th>prelim_info</th>\n",
       "    </tr>\n",
       "    <tr>\n",
       "      <th>prot</th>\n",
       "      <th></th>\n",
       "      <th></th>\n",
       "    </tr>\n",
       "  </thead>\n",
       "  <tbody>\n",
       "    <tr>\n",
       "      <th>MGV-GENOME-0265351.35049</th>\n",
       "      <td>NC_001604.1.1278</td>\n",
       "      <td>Ocr</td>\n",
       "    </tr>\n",
       "    <tr>\n",
       "      <th>MGV-GENOME-0263483.5122</th>\n",
       "      <td>NC_001604.1.1433</td>\n",
       "      <td>T7p0.4</td>\n",
       "    </tr>\n",
       "    <tr>\n",
       "      <th>MGV-GENOME-0265351.35398</th>\n",
       "      <td>NC_001604.1.1639</td>\n",
       "      <td>T7p0.5</td>\n",
       "    </tr>\n",
       "    <tr>\n",
       "      <th>MGV-GENOME-0263483.5787</th>\n",
       "      <td>NC_001604.1.1797</td>\n",
       "      <td>T7p0.6A</td>\n",
       "    </tr>\n",
       "    <tr>\n",
       "      <th>MGV-GENOME-0263483.5989</th>\n",
       "      <td>NC_001604.1.1972</td>\n",
       "      <td>T7p0.6B</td>\n",
       "    </tr>\n",
       "    <tr>\n",
       "      <th>SRR7892431_NODE_5_length_39514_cov_32.711067.14971</th>\n",
       "      <td>NC_001604.1.3100</td>\n",
       "      <td>T7pSTPK</td>\n",
       "    </tr>\n",
       "    <tr>\n",
       "      <th>Zuo_2017_SRR5677784_NODE_194_length_16760_cov_1674.172344.1540</th>\n",
       "      <td>NC_003298.1.1359</td>\n",
       "      <td>SAMase</td>\n",
       "    </tr>\n",
       "    <tr>\n",
       "      <th>Zuo_2017_SRR5677784_NODE_194_length_16760_cov_1674.172344.2197</th>\n",
       "      <td>NC_003298.1.1627</td>\n",
       "      <td>T3p0.6</td>\n",
       "    </tr>\n",
       "    <tr>\n",
       "      <th>Zuo_2017_SRR5677784_NODE_194_length_16760_cov_1674.172344.2354</th>\n",
       "      <td>NC_003298.1.1781</td>\n",
       "      <td>T3p0.65</td>\n",
       "    </tr>\n",
       "    <tr>\n",
       "      <th>Zuo_2017_SRR5677784_NODE_194_length_16760_cov_1674.172344.3478</th>\n",
       "      <td>NC_003298.1.2905</td>\n",
       "      <td>T3pSTPK</td>\n",
       "    </tr>\n",
       "  </tbody>\n",
       "</table>\n",
       "</div>"
      ],
      "text/plain": [
       "                                                            t3t7_hit   \n",
       "prot                                                                   \n",
       "MGV-GENOME-0265351.35049                            NC_001604.1.1278  \\\n",
       "MGV-GENOME-0263483.5122                             NC_001604.1.1433   \n",
       "MGV-GENOME-0265351.35398                            NC_001604.1.1639   \n",
       "MGV-GENOME-0263483.5787                             NC_001604.1.1797   \n",
       "MGV-GENOME-0263483.5989                             NC_001604.1.1972   \n",
       "SRR7892431_NODE_5_length_39514_cov_32.711067.14971  NC_001604.1.3100   \n",
       "Zuo_2017_SRR5677784_NODE_194_length_16760_cov_1...  NC_003298.1.1359   \n",
       "Zuo_2017_SRR5677784_NODE_194_length_16760_cov_1...  NC_003298.1.1627   \n",
       "Zuo_2017_SRR5677784_NODE_194_length_16760_cov_1...  NC_003298.1.1781   \n",
       "Zuo_2017_SRR5677784_NODE_194_length_16760_cov_1...  NC_003298.1.2905   \n",
       "\n",
       "                                                   prelim_info  \n",
       "prot                                                            \n",
       "MGV-GENOME-0265351.35049                                   Ocr  \n",
       "MGV-GENOME-0263483.5122                                 T7p0.4  \n",
       "MGV-GENOME-0265351.35398                                T7p0.5  \n",
       "MGV-GENOME-0263483.5787                                T7p0.6A  \n",
       "MGV-GENOME-0263483.5989                                T7p0.6B  \n",
       "SRR7892431_NODE_5_length_39514_cov_32.711067.14971     T7pSTPK  \n",
       "Zuo_2017_SRR5677784_NODE_194_length_16760_cov_1...      SAMase  \n",
       "Zuo_2017_SRR5677784_NODE_194_length_16760_cov_1...      T3p0.6  \n",
       "Zuo_2017_SRR5677784_NODE_194_length_16760_cov_1...     T3p0.65  \n",
       "Zuo_2017_SRR5677784_NODE_194_length_16760_cov_1...     T3pSTPK  "
      ]
     },
     "execution_count": 56,
     "metadata": {},
     "output_type": "execute_result"
    }
   ],
   "source": [
    "t3t7_hits = t3t7_hits.reset_index().set_index('prot')\n",
    "t3t7_hits"
   ]
  },
  {
   "cell_type": "code",
   "execution_count": 57,
   "id": "c4a3b6c1-ea46-48a3-8e37-f5d31636221f",
   "metadata": {},
   "outputs": [
    {
     "data": {
      "text/html": [
       "<div>\n",
       "<style scoped>\n",
       "    .dataframe tbody tr th:only-of-type {\n",
       "        vertical-align: middle;\n",
       "    }\n",
       "\n",
       "    .dataframe tbody tr th {\n",
       "        vertical-align: top;\n",
       "    }\n",
       "\n",
       "    .dataframe thead th {\n",
       "        text-align: right;\n",
       "    }\n",
       "</style>\n",
       "<table border=\"1\" class=\"dataframe\">\n",
       "  <thead>\n",
       "    <tr style=\"text-align: right;\">\n",
       "      <th></th>\n",
       "      <th>clu</th>\n",
       "      <th>phrog</th>\n",
       "      <th>annot</th>\n",
       "      <th>phrog_category</th>\n",
       "      <th>pfam_dom</th>\n",
       "      <th>pfam_id</th>\n",
       "      <th>apis</th>\n",
       "      <th>dbapis_clan_id</th>\n",
       "      <th>apis_genes</th>\n",
       "      <th>defense_systems</th>\n",
       "      <th>seq</th>\n",
       "      <th>length</th>\n",
       "      <th>pi</th>\n",
       "      <th>clan</th>\n",
       "      <th>t3t7_hit</th>\n",
       "      <th>prelim_info</th>\n",
       "    </tr>\n",
       "    <tr>\n",
       "      <th>prot</th>\n",
       "      <th></th>\n",
       "      <th></th>\n",
       "      <th></th>\n",
       "      <th></th>\n",
       "      <th></th>\n",
       "      <th></th>\n",
       "      <th></th>\n",
       "      <th></th>\n",
       "      <th></th>\n",
       "      <th></th>\n",
       "      <th></th>\n",
       "      <th></th>\n",
       "      <th></th>\n",
       "      <th></th>\n",
       "      <th></th>\n",
       "      <th></th>\n",
       "    </tr>\n",
       "  </thead>\n",
       "  <tbody>\n",
       "    <tr>\n",
       "      <th>SRS018573_a1_ct23703_vs1@Podoviridae__sp._ct5qv1.38055</th>\n",
       "      <td>1275</td>\n",
       "      <td>NaN</td>\n",
       "      <td>NaN</td>\n",
       "      <td>NaN</td>\n",
       "      <td>NaN</td>\n",
       "      <td>NaN</td>\n",
       "      <td>NaN</td>\n",
       "      <td>NaN</td>\n",
       "      <td>NaN</td>\n",
       "      <td>NaN</td>\n",
       "      <td>VGCEVHELPRYQGLAEAAPGLLGAAPEAVHLPLPQD*</td>\n",
       "      <td>37</td>\n",
       "      <td>4.56</td>\n",
       "      <td>1338_mono</td>\n",
       "      <td>NaN</td>\n",
       "      <td>NaN</td>\n",
       "    </tr>\n",
       "    <tr>\n",
       "      <th>MGV-GENOME-0150089.17563</th>\n",
       "      <td>3457</td>\n",
       "      <td>NaN</td>\n",
       "      <td>NaN</td>\n",
       "      <td>NaN</td>\n",
       "      <td>NaN</td>\n",
       "      <td>NaN</td>\n",
       "      <td>NaN</td>\n",
       "      <td>NaN</td>\n",
       "      <td>NaN</td>\n",
       "      <td>NaN</td>\n",
       "      <td>VIRYSHRQGDSANAFPSRKNFNLLRSDKSLQTKGGKENGNYNS*</td>\n",
       "      <td>44</td>\n",
       "      <td>10.28</td>\n",
       "      <td>192_pair</td>\n",
       "      <td>NaN</td>\n",
       "      <td>NaN</td>\n",
       "    </tr>\n",
       "    <tr>\n",
       "      <th>MGV-GENOME-0267293.5705</th>\n",
       "      <td>321</td>\n",
       "      <td>NaN</td>\n",
       "      <td>NaN</td>\n",
       "      <td>NaN</td>\n",
       "      <td>NaN</td>\n",
       "      <td>NaN</td>\n",
       "      <td>NaN</td>\n",
       "      <td>NaN</td>\n",
       "      <td>NaN</td>\n",
       "      <td>NaN</td>\n",
       "      <td>MFPIDRDTLETYIAMGMFHGLCLAVSLFIAWLLFWIIGGCK*</td>\n",
       "      <td>42</td>\n",
       "      <td>5.36</td>\n",
       "      <td>106_clan</td>\n",
       "      <td>NaN</td>\n",
       "      <td>NaN</td>\n",
       "    </tr>\n",
       "    <tr>\n",
       "      <th>MGV-GENOME-0268032.34655</th>\n",
       "      <td>321</td>\n",
       "      <td>NaN</td>\n",
       "      <td>NaN</td>\n",
       "      <td>NaN</td>\n",
       "      <td>NaN</td>\n",
       "      <td>NaN</td>\n",
       "      <td>NaN</td>\n",
       "      <td>NaN</td>\n",
       "      <td>NaN</td>\n",
       "      <td>NaN</td>\n",
       "      <td>MFPIDRDTLETYIAIGMFHGLCLVVSLFIAWLLFWIIGGCK*</td>\n",
       "      <td>42</td>\n",
       "      <td>5.36</td>\n",
       "      <td>106_clan</td>\n",
       "      <td>NaN</td>\n",
       "      <td>NaN</td>\n",
       "    </tr>\n",
       "    <tr>\n",
       "      <th>MGV-GENOME-0263392.34117</th>\n",
       "      <td>321</td>\n",
       "      <td>NaN</td>\n",
       "      <td>NaN</td>\n",
       "      <td>NaN</td>\n",
       "      <td>NaN</td>\n",
       "      <td>NaN</td>\n",
       "      <td>NaN</td>\n",
       "      <td>NaN</td>\n",
       "      <td>NaN</td>\n",
       "      <td>NaN</td>\n",
       "      <td>MFPIDKDTLETYIAMGMFHGLCLAVSLFIAWLLFWIIGGCK*</td>\n",
       "      <td>42</td>\n",
       "      <td>5.36</td>\n",
       "      <td>106_clan</td>\n",
       "      <td>NaN</td>\n",
       "      <td>NaN</td>\n",
       "    </tr>\n",
       "    <tr>\n",
       "      <th>...</th>\n",
       "      <td>...</td>\n",
       "      <td>...</td>\n",
       "      <td>...</td>\n",
       "      <td>...</td>\n",
       "      <td>...</td>\n",
       "      <td>...</td>\n",
       "      <td>...</td>\n",
       "      <td>...</td>\n",
       "      <td>...</td>\n",
       "      <td>...</td>\n",
       "      <td>...</td>\n",
       "      <td>...</td>\n",
       "      <td>...</td>\n",
       "      <td>...</td>\n",
       "      <td>...</td>\n",
       "      <td>...</td>\n",
       "    </tr>\n",
       "    <tr>\n",
       "      <th>MGV-GENOME-0348822.67189</th>\n",
       "      <td>2701</td>\n",
       "      <td>NaN</td>\n",
       "      <td>NaN</td>\n",
       "      <td>NaN</td>\n",
       "      <td>NaN</td>\n",
       "      <td>NaN</td>\n",
       "      <td>NaN</td>\n",
       "      <td>NaN</td>\n",
       "      <td>NaN</td>\n",
       "      <td>NaN</td>\n",
       "      <td>MNAKEALLMLKLGAVIRRPRWNSGTLLTLNHKGEILVRFSDGDIYT...</td>\n",
       "      <td>70</td>\n",
       "      <td>6.03</td>\n",
       "      <td>outlier: 7_clan</td>\n",
       "      <td>NaN</td>\n",
       "      <td>NaN</td>\n",
       "    </tr>\n",
       "    <tr>\n",
       "      <th>SAMN00791913_a1_ct1999@circular@Podoviridae__sp._ctuqh999.2947</th>\n",
       "      <td>2701</td>\n",
       "      <td>NaN</td>\n",
       "      <td>NaN</td>\n",
       "      <td>NaN</td>\n",
       "      <td>NaN</td>\n",
       "      <td>NaN</td>\n",
       "      <td>NaN</td>\n",
       "      <td>NaN</td>\n",
       "      <td>NaN</td>\n",
       "      <td>NaN</td>\n",
       "      <td>MNAKEALLMLKLGAVIRRPRWNSGTLLTLNHKGEILITFSDGDVYT...</td>\n",
       "      <td>70</td>\n",
       "      <td>6.03</td>\n",
       "      <td>outlier: 7_clan</td>\n",
       "      <td>NaN</td>\n",
       "      <td>NaN</td>\n",
       "    </tr>\n",
       "    <tr>\n",
       "      <th>MGV-GENOME-0349583.55307</th>\n",
       "      <td>2701</td>\n",
       "      <td>NaN</td>\n",
       "      <td>NaN</td>\n",
       "      <td>NaN</td>\n",
       "      <td>NaN</td>\n",
       "      <td>NaN</td>\n",
       "      <td>NaN</td>\n",
       "      <td>NaN</td>\n",
       "      <td>NaN</td>\n",
       "      <td>NaN</td>\n",
       "      <td>MVHYMTGKEALLMLKLGAVIRRPIWNRGTLLTLDHNGQIFVRYSDG...</td>\n",
       "      <td>74</td>\n",
       "      <td>6.82</td>\n",
       "      <td>outlier: 7_clan</td>\n",
       "      <td>NaN</td>\n",
       "      <td>NaN</td>\n",
       "    </tr>\n",
       "    <tr>\n",
       "      <th>SAMN11031293_a1_ct3915@circular@Podoviridae__sp._ctEKN915.9653</th>\n",
       "      <td>2701</td>\n",
       "      <td>NaN</td>\n",
       "      <td>NaN</td>\n",
       "      <td>NaN</td>\n",
       "      <td>NaN</td>\n",
       "      <td>NaN</td>\n",
       "      <td>NaN</td>\n",
       "      <td>NaN</td>\n",
       "      <td>NaN</td>\n",
       "      <td>NaN</td>\n",
       "      <td>MNAKEALLMLKLGAKIKRSVWDSGSYITLSQDSIILVRFLDGHTIR...</td>\n",
       "      <td>70</td>\n",
       "      <td>6.54</td>\n",
       "      <td>outlier: 7_clan</td>\n",
       "      <td>NaN</td>\n",
       "      <td>NaN</td>\n",
       "    </tr>\n",
       "    <tr>\n",
       "      <th>SRS2307111|NODE_3_length_8107_cov_67.167909.6808</th>\n",
       "      <td>6547</td>\n",
       "      <td>NaN</td>\n",
       "      <td>NaN</td>\n",
       "      <td>NaN</td>\n",
       "      <td>NaN</td>\n",
       "      <td>NaN</td>\n",
       "      <td>NaN</td>\n",
       "      <td>NaN</td>\n",
       "      <td>NaN</td>\n",
       "      <td>NaN</td>\n",
       "      <td>MISALNTVVVPEEALVKRQLELEETYKIRGIERARKLIPDALQNGG...</td>\n",
       "      <td>54</td>\n",
       "      <td>6.16</td>\n",
       "      <td>32_clan</td>\n",
       "      <td>NaN</td>\n",
       "      <td>NaN</td>\n",
       "    </tr>\n",
       "  </tbody>\n",
       "</table>\n",
       "<p>8476 rows × 16 columns</p>\n",
       "</div>"
      ],
      "text/plain": [
       "                                                     clu phrog annot   \n",
       "prot                                                                   \n",
       "SRS018573_a1_ct23703_vs1@Podoviridae__sp._ct5qv...  1275   NaN   NaN  \\\n",
       "MGV-GENOME-0150089.17563                            3457   NaN   NaN   \n",
       "MGV-GENOME-0267293.5705                              321   NaN   NaN   \n",
       "MGV-GENOME-0268032.34655                             321   NaN   NaN   \n",
       "MGV-GENOME-0263392.34117                             321   NaN   NaN   \n",
       "...                                                  ...   ...   ...   \n",
       "MGV-GENOME-0348822.67189                            2701   NaN   NaN   \n",
       "SAMN00791913_a1_ct1999@circular@Podoviridae__sp...  2701   NaN   NaN   \n",
       "MGV-GENOME-0349583.55307                            2701   NaN   NaN   \n",
       "SAMN11031293_a1_ct3915@circular@Podoviridae__sp...  2701   NaN   NaN   \n",
       "SRS2307111|NODE_3_length_8107_cov_67.167909.6808    6547   NaN   NaN   \n",
       "\n",
       "                                                   phrog_category pfam_dom   \n",
       "prot                                                                         \n",
       "SRS018573_a1_ct23703_vs1@Podoviridae__sp._ct5qv...            NaN      NaN  \\\n",
       "MGV-GENOME-0150089.17563                                      NaN      NaN   \n",
       "MGV-GENOME-0267293.5705                                       NaN      NaN   \n",
       "MGV-GENOME-0268032.34655                                      NaN      NaN   \n",
       "MGV-GENOME-0263392.34117                                      NaN      NaN   \n",
       "...                                                           ...      ...   \n",
       "MGV-GENOME-0348822.67189                                      NaN      NaN   \n",
       "SAMN00791913_a1_ct1999@circular@Podoviridae__sp...            NaN      NaN   \n",
       "MGV-GENOME-0349583.55307                                      NaN      NaN   \n",
       "SAMN11031293_a1_ct3915@circular@Podoviridae__sp...            NaN      NaN   \n",
       "SRS2307111|NODE_3_length_8107_cov_67.167909.6808              NaN      NaN   \n",
       "\n",
       "                                                   pfam_id apis   \n",
       "prot                                                              \n",
       "SRS018573_a1_ct23703_vs1@Podoviridae__sp._ct5qv...     NaN  NaN  \\\n",
       "MGV-GENOME-0150089.17563                               NaN  NaN   \n",
       "MGV-GENOME-0267293.5705                                NaN  NaN   \n",
       "MGV-GENOME-0268032.34655                               NaN  NaN   \n",
       "MGV-GENOME-0263392.34117                               NaN  NaN   \n",
       "...                                                    ...  ...   \n",
       "MGV-GENOME-0348822.67189                               NaN  NaN   \n",
       "SAMN00791913_a1_ct1999@circular@Podoviridae__sp...     NaN  NaN   \n",
       "MGV-GENOME-0349583.55307                               NaN  NaN   \n",
       "SAMN11031293_a1_ct3915@circular@Podoviridae__sp...     NaN  NaN   \n",
       "SRS2307111|NODE_3_length_8107_cov_67.167909.6808       NaN  NaN   \n",
       "\n",
       "                                                   dbapis_clan_id apis_genes   \n",
       "prot                                                                           \n",
       "SRS018573_a1_ct23703_vs1@Podoviridae__sp._ct5qv...            NaN        NaN  \\\n",
       "MGV-GENOME-0150089.17563                                      NaN        NaN   \n",
       "MGV-GENOME-0267293.5705                                       NaN        NaN   \n",
       "MGV-GENOME-0268032.34655                                      NaN        NaN   \n",
       "MGV-GENOME-0263392.34117                                      NaN        NaN   \n",
       "...                                                           ...        ...   \n",
       "MGV-GENOME-0348822.67189                                      NaN        NaN   \n",
       "SAMN00791913_a1_ct1999@circular@Podoviridae__sp...            NaN        NaN   \n",
       "MGV-GENOME-0349583.55307                                      NaN        NaN   \n",
       "SAMN11031293_a1_ct3915@circular@Podoviridae__sp...            NaN        NaN   \n",
       "SRS2307111|NODE_3_length_8107_cov_67.167909.6808              NaN        NaN   \n",
       "\n",
       "                                                   defense_systems   \n",
       "prot                                                                 \n",
       "SRS018573_a1_ct23703_vs1@Podoviridae__sp._ct5qv...             NaN  \\\n",
       "MGV-GENOME-0150089.17563                                       NaN   \n",
       "MGV-GENOME-0267293.5705                                        NaN   \n",
       "MGV-GENOME-0268032.34655                                       NaN   \n",
       "MGV-GENOME-0263392.34117                                       NaN   \n",
       "...                                                            ...   \n",
       "MGV-GENOME-0348822.67189                                       NaN   \n",
       "SAMN00791913_a1_ct1999@circular@Podoviridae__sp...             NaN   \n",
       "MGV-GENOME-0349583.55307                                       NaN   \n",
       "SAMN11031293_a1_ct3915@circular@Podoviridae__sp...             NaN   \n",
       "SRS2307111|NODE_3_length_8107_cov_67.167909.6808               NaN   \n",
       "\n",
       "                                                                                                  seq   \n",
       "prot                                                                                                    \n",
       "SRS018573_a1_ct23703_vs1@Podoviridae__sp._ct5qv...              VGCEVHELPRYQGLAEAAPGLLGAAPEAVHLPLPQD*  \\\n",
       "MGV-GENOME-0150089.17563                                 VIRYSHRQGDSANAFPSRKNFNLLRSDKSLQTKGGKENGNYNS*   \n",
       "MGV-GENOME-0267293.5705                                    MFPIDRDTLETYIAMGMFHGLCLAVSLFIAWLLFWIIGGCK*   \n",
       "MGV-GENOME-0268032.34655                                   MFPIDRDTLETYIAIGMFHGLCLVVSLFIAWLLFWIIGGCK*   \n",
       "MGV-GENOME-0263392.34117                                   MFPIDKDTLETYIAMGMFHGLCLAVSLFIAWLLFWIIGGCK*   \n",
       "...                                                                                               ...   \n",
       "MGV-GENOME-0348822.67189                            MNAKEALLMLKLGAVIRRPRWNSGTLLTLNHKGEILVRFSDGDIYT...   \n",
       "SAMN00791913_a1_ct1999@circular@Podoviridae__sp...  MNAKEALLMLKLGAVIRRPRWNSGTLLTLNHKGEILITFSDGDVYT...   \n",
       "MGV-GENOME-0349583.55307                            MVHYMTGKEALLMLKLGAVIRRPIWNRGTLLTLDHNGQIFVRYSDG...   \n",
       "SAMN11031293_a1_ct3915@circular@Podoviridae__sp...  MNAKEALLMLKLGAKIKRSVWDSGSYITLSQDSIILVRFLDGHTIR...   \n",
       "SRS2307111|NODE_3_length_8107_cov_67.167909.6808    MISALNTVVVPEEALVKRQLELEETYKIRGIERARKLIPDALQNGG...   \n",
       "\n",
       "                                                    length     pi   \n",
       "prot                                                                \n",
       "SRS018573_a1_ct23703_vs1@Podoviridae__sp._ct5qv...      37   4.56  \\\n",
       "MGV-GENOME-0150089.17563                                44  10.28   \n",
       "MGV-GENOME-0267293.5705                                 42   5.36   \n",
       "MGV-GENOME-0268032.34655                                42   5.36   \n",
       "MGV-GENOME-0263392.34117                                42   5.36   \n",
       "...                                                    ...    ...   \n",
       "MGV-GENOME-0348822.67189                                70   6.03   \n",
       "SAMN00791913_a1_ct1999@circular@Podoviridae__sp...      70   6.03   \n",
       "MGV-GENOME-0349583.55307                                74   6.82   \n",
       "SAMN11031293_a1_ct3915@circular@Podoviridae__sp...      70   6.54   \n",
       "SRS2307111|NODE_3_length_8107_cov_67.167909.6808        54   6.16   \n",
       "\n",
       "                                                               clan t3t7_hit   \n",
       "prot                                                                           \n",
       "SRS018573_a1_ct23703_vs1@Podoviridae__sp._ct5qv...        1338_mono      NaN  \\\n",
       "MGV-GENOME-0150089.17563                                   192_pair      NaN   \n",
       "MGV-GENOME-0267293.5705                                    106_clan      NaN   \n",
       "MGV-GENOME-0268032.34655                                   106_clan      NaN   \n",
       "MGV-GENOME-0263392.34117                                   106_clan      NaN   \n",
       "...                                                             ...      ...   \n",
       "MGV-GENOME-0348822.67189                            outlier: 7_clan      NaN   \n",
       "SAMN00791913_a1_ct1999@circular@Podoviridae__sp...  outlier: 7_clan      NaN   \n",
       "MGV-GENOME-0349583.55307                            outlier: 7_clan      NaN   \n",
       "SAMN11031293_a1_ct3915@circular@Podoviridae__sp...  outlier: 7_clan      NaN   \n",
       "SRS2307111|NODE_3_length_8107_cov_67.167909.6808            32_clan      NaN   \n",
       "\n",
       "                                                   prelim_info  \n",
       "prot                                                            \n",
       "SRS018573_a1_ct23703_vs1@Podoviridae__sp._ct5qv...         NaN  \n",
       "MGV-GENOME-0150089.17563                                   NaN  \n",
       "MGV-GENOME-0267293.5705                                    NaN  \n",
       "MGV-GENOME-0268032.34655                                   NaN  \n",
       "MGV-GENOME-0263392.34117                                   NaN  \n",
       "...                                                        ...  \n",
       "MGV-GENOME-0348822.67189                                   NaN  \n",
       "SAMN00791913_a1_ct1999@circular@Podoviridae__sp...         NaN  \n",
       "MGV-GENOME-0349583.55307                                   NaN  \n",
       "SAMN11031293_a1_ct3915@circular@Podoviridae__sp...         NaN  \n",
       "SRS2307111|NODE_3_length_8107_cov_67.167909.6808           NaN  \n",
       "\n",
       "[8476 rows x 16 columns]"
      ]
     },
     "execution_count": 57,
     "metadata": {},
     "output_type": "execute_result"
    }
   ],
   "source": [
    "prelim = long_list.drop(columns=['prelim_info']).set_index('prot').join(t3t7_hits)\n",
    "prelim"
   ]
  },
  {
   "cell_type": "code",
   "execution_count": 58,
   "id": "56b232a9-2604-44ee-9cab-5ed5bd23f69d",
   "metadata": {},
   "outputs": [
    {
     "data": {
      "text/plain": [
       "prot\n",
       "Zuo_2017_SRR5677784_NODE_194_length_16760_cov_1674.172344.1540     SAMase\n",
       "MGV-GENOME-0265351.35049                                              Ocr\n",
       "MGV-GENOME-0263483.5122                                            T7p0.4\n",
       "Zuo_2017_SRR5677784_NODE_194_length_16760_cov_1674.172344.2197     T3p0.6\n",
       "MGV-GENOME-0263483.5787                                           T7p0.6A\n",
       "Zuo_2017_SRR5677784_NODE_194_length_16760_cov_1674.172344.2354    T3p0.65\n",
       "MGV-GENOME-0265351.35398                                           T7p0.5\n",
       "SRR7892431_NODE_5_length_39514_cov_32.711067.14971                T7pSTPK\n",
       "Zuo_2017_SRR5677784_NODE_194_length_16760_cov_1674.172344.3478    T3pSTPK\n",
       "MGV-GENOME-0263483.5989                                           T7p0.6B\n",
       "Name: prelim_info, dtype: object"
      ]
     },
     "execution_count": 58,
     "metadata": {},
     "output_type": "execute_result"
    }
   ],
   "source": [
    "prelim[prelim['prelim_info'].notna()]['prelim_info']"
   ]
  }
 ],
 "metadata": {
  "kernelspec": {
   "display_name": "Python 3 (ipykernel)",
   "language": "python",
   "name": "python3"
  },
  "language_info": {
   "codemirror_mode": {
    "name": "ipython",
    "version": 3
   },
   "file_extension": ".py",
   "mimetype": "text/x-python",
   "name": "python",
   "nbconvert_exporter": "python",
   "pygments_lexer": "ipython3",
   "version": "3.10.10"
  }
 },
 "nbformat": 4,
 "nbformat_minor": 5
}
